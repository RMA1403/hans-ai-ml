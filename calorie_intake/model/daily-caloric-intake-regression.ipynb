{
 "cells": [
  {
   "cell_type": "markdown",
   "id": "029008ad",
   "metadata": {
    "papermill": {
     "duration": 0.009993,
     "end_time": "2024-12-05T19:53:01.580764",
     "exception": false,
     "start_time": "2024-12-05T19:53:01.570771",
     "status": "completed"
    },
    "tags": []
   },
   "source": [
    "# Regression on Base Healthy Caloric Intake "
   ]
  },
  {
   "cell_type": "code",
   "execution_count": 1,
   "id": "18e77a12",
   "metadata": {
    "_cell_guid": "b1076dfc-b9ad-4769-8c92-a6c4dae69d19",
    "_uuid": "8f2839f25d086af736a60e9eeb907d3b93b6e0e5",
    "execution": {
     "iopub.execute_input": "2024-12-05T19:53:01.603118Z",
     "iopub.status.busy": "2024-12-05T19:53:01.602682Z",
     "iopub.status.idle": "2024-12-05T19:53:19.548027Z",
     "shell.execute_reply": "2024-12-05T19:53:19.546745Z"
    },
    "papermill": {
     "duration": 17.9583,
     "end_time": "2024-12-05T19:53:19.550664",
     "exception": false,
     "start_time": "2024-12-05T19:53:01.592364",
     "status": "completed"
    },
    "tags": []
   },
   "outputs": [
    {
     "name": "stderr",
     "output_type": "stream",
     "text": [
      "2024-12-09 23:10:18.512866: I tensorflow/core/platform/cpu_feature_guard.cc:210] This TensorFlow binary is optimized to use available CPU instructions in performance-critical operations.\n",
      "To enable the following instructions: AVX2 FMA, in other operations, rebuild TensorFlow with the appropriate compiler flags.\n"
     ]
    }
   ],
   "source": [
    "import pandas as pd\n",
    "import numpy as np\n",
    "import matplotlib.pyplot as plt\n",
    "import random\n",
    "import os\n",
    "\n",
    "import tensorflow as tf\n",
    "from tensorflow.keras.models import Sequential\n",
    "from tensorflow.keras.layers import Dense\n",
    "from tensorflow.keras.optimizers import Adam\n",
    "from tensorflow.keras.losses import MeanSquaredError\n",
    "from tensorflow.keras import Input"
   ]
  },
  {
   "cell_type": "code",
   "execution_count": 2,
   "id": "1106775f",
   "metadata": {},
   "outputs": [
    {
     "data": {
      "text/plain": [
       "'1.4.2'"
      ]
     },
     "execution_count": 2,
     "metadata": {},
     "output_type": "execute_result"
    }
   ],
   "source": [
    "import sklearn\n",
    "sklearn.__version__"
   ]
  },
  {
   "cell_type": "markdown",
   "id": "73bf8a9a",
   "metadata": {
    "papermill": {
     "duration": 0.008758,
     "end_time": "2024-12-05T19:53:19.568447",
     "exception": false,
     "start_time": "2024-12-05T19:53:19.559689",
     "status": "completed"
    },
    "tags": []
   },
   "source": [
    "## Config"
   ]
  },
  {
   "cell_type": "code",
   "execution_count": 3,
   "id": "907458c6",
   "metadata": {
    "execution": {
     "iopub.execute_input": "2024-12-05T19:53:19.588158Z",
     "iopub.status.busy": "2024-12-05T19:53:19.587472Z",
     "iopub.status.idle": "2024-12-05T19:53:19.592926Z",
     "shell.execute_reply": "2024-12-05T19:53:19.591844Z"
    },
    "papermill": {
     "duration": 0.017571,
     "end_time": "2024-12-05T19:53:19.595317",
     "exception": false,
     "start_time": "2024-12-05T19:53:19.577746",
     "status": "completed"
    },
    "tags": []
   },
   "outputs": [],
   "source": [
    "EPOCHS = 500\n",
    "BATCH_SIZE=8\n",
    "VERBOSE_TRAINING=False\n",
    "RANDOM_STATE=42"
   ]
  },
  {
   "cell_type": "code",
   "execution_count": 4,
   "id": "54de8d53",
   "metadata": {
    "execution": {
     "iopub.execute_input": "2024-12-05T19:53:19.614970Z",
     "iopub.status.busy": "2024-12-05T19:53:19.614514Z",
     "iopub.status.idle": "2024-12-05T19:53:19.621084Z",
     "shell.execute_reply": "2024-12-05T19:53:19.619912Z"
    },
    "papermill": {
     "duration": 0.019686,
     "end_time": "2024-12-05T19:53:19.623591",
     "exception": false,
     "start_time": "2024-12-05T19:53:19.603905",
     "status": "completed"
    },
    "tags": []
   },
   "outputs": [],
   "source": [
    "def set_random_state(seed=RANDOM_STATE):\n",
    "    random.seed(seed)\n",
    "    np.random.seed(seed)\n",
    "    tf.random.set_seed(seed)\n",
    "    os.environ['PYTHONHASHSEED'] = str(seed)\n",
    "    os.environ['TF_DETERMINISTIC_OPS'] = '1'\n",
    "\n",
    "set_random_state()"
   ]
  },
  {
   "cell_type": "markdown",
   "id": "78f01280",
   "metadata": {
    "papermill": {
     "duration": 0.008564,
     "end_time": "2024-12-05T19:53:19.640669",
     "exception": false,
     "start_time": "2024-12-05T19:53:19.632105",
     "status": "completed"
    },
    "tags": []
   },
   "source": [
    "## Data"
   ]
  },
  {
   "cell_type": "code",
   "execution_count": 5,
   "id": "7858e032",
   "metadata": {
    "execution": {
     "iopub.execute_input": "2024-12-05T19:53:19.660607Z",
     "iopub.status.busy": "2024-12-05T19:53:19.660177Z",
     "iopub.status.idle": "2024-12-05T19:53:19.723144Z",
     "shell.execute_reply": "2024-12-05T19:53:19.722062Z"
    },
    "papermill": {
     "duration": 0.075483,
     "end_time": "2024-12-05T19:53:19.725563",
     "exception": false,
     "start_time": "2024-12-05T19:53:19.650080",
     "status": "completed"
    },
    "tags": []
   },
   "outputs": [
    {
     "data": {
      "text/html": [
       "<div>\n",
       "<style scoped>\n",
       "    .dataframe tbody tr th:only-of-type {\n",
       "        vertical-align: middle;\n",
       "    }\n",
       "\n",
       "    .dataframe tbody tr th {\n",
       "        vertical-align: top;\n",
       "    }\n",
       "\n",
       "    .dataframe thead th {\n",
       "        text-align: right;\n",
       "    }\n",
       "</style>\n",
       "<table border=\"1\" class=\"dataframe\">\n",
       "  <thead>\n",
       "    <tr style=\"text-align: right;\">\n",
       "      <th></th>\n",
       "      <th>Participant ID</th>\n",
       "      <th>Age</th>\n",
       "      <th>Gender</th>\n",
       "      <th>Current Weight (lbs)</th>\n",
       "      <th>BMR (Calories)</th>\n",
       "      <th>Daily Calories Consumed</th>\n",
       "      <th>Daily Caloric Surplus/Deficit</th>\n",
       "      <th>Weight Change (lbs)</th>\n",
       "      <th>Duration (weeks)</th>\n",
       "      <th>Physical Activity Level</th>\n",
       "      <th>Sleep Quality</th>\n",
       "      <th>Stress Level</th>\n",
       "      <th>Final Weight (lbs)</th>\n",
       "    </tr>\n",
       "  </thead>\n",
       "  <tbody>\n",
       "    <tr>\n",
       "      <th>0</th>\n",
       "      <td>1</td>\n",
       "      <td>56</td>\n",
       "      <td>M</td>\n",
       "      <td>228.4</td>\n",
       "      <td>3102.3</td>\n",
       "      <td>3916.0</td>\n",
       "      <td>813.7</td>\n",
       "      <td>0.20000</td>\n",
       "      <td>1</td>\n",
       "      <td>Sedentary</td>\n",
       "      <td>Excellent</td>\n",
       "      <td>6</td>\n",
       "      <td>228.6</td>\n",
       "    </tr>\n",
       "    <tr>\n",
       "      <th>1</th>\n",
       "      <td>2</td>\n",
       "      <td>46</td>\n",
       "      <td>F</td>\n",
       "      <td>165.4</td>\n",
       "      <td>2275.5</td>\n",
       "      <td>3823.0</td>\n",
       "      <td>1547.5</td>\n",
       "      <td>2.40000</td>\n",
       "      <td>6</td>\n",
       "      <td>Very Active</td>\n",
       "      <td>Excellent</td>\n",
       "      <td>6</td>\n",
       "      <td>167.8</td>\n",
       "    </tr>\n",
       "    <tr>\n",
       "      <th>2</th>\n",
       "      <td>3</td>\n",
       "      <td>32</td>\n",
       "      <td>F</td>\n",
       "      <td>142.8</td>\n",
       "      <td>2119.4</td>\n",
       "      <td>2785.4</td>\n",
       "      <td>666.0</td>\n",
       "      <td>1.40000</td>\n",
       "      <td>7</td>\n",
       "      <td>Sedentary</td>\n",
       "      <td>Good</td>\n",
       "      <td>3</td>\n",
       "      <td>144.2</td>\n",
       "    </tr>\n",
       "    <tr>\n",
       "      <th>3</th>\n",
       "      <td>4</td>\n",
       "      <td>25</td>\n",
       "      <td>F</td>\n",
       "      <td>145.5</td>\n",
       "      <td>2181.3</td>\n",
       "      <td>2587.3</td>\n",
       "      <td>406.0</td>\n",
       "      <td>0.80000</td>\n",
       "      <td>8</td>\n",
       "      <td>Sedentary</td>\n",
       "      <td>Fair</td>\n",
       "      <td>2</td>\n",
       "      <td>146.3</td>\n",
       "    </tr>\n",
       "    <tr>\n",
       "      <th>4</th>\n",
       "      <td>5</td>\n",
       "      <td>38</td>\n",
       "      <td>M</td>\n",
       "      <td>155.5</td>\n",
       "      <td>2463.8</td>\n",
       "      <td>3312.8</td>\n",
       "      <td>849.0</td>\n",
       "      <td>2.00000</td>\n",
       "      <td>10</td>\n",
       "      <td>Lightly Active</td>\n",
       "      <td>Good</td>\n",
       "      <td>1</td>\n",
       "      <td>157.5</td>\n",
       "    </tr>\n",
       "    <tr>\n",
       "      <th>...</th>\n",
       "      <td>...</td>\n",
       "      <td>...</td>\n",
       "      <td>...</td>\n",
       "      <td>...</td>\n",
       "      <td>...</td>\n",
       "      <td>...</td>\n",
       "      <td>...</td>\n",
       "      <td>...</td>\n",
       "      <td>...</td>\n",
       "      <td>...</td>\n",
       "      <td>...</td>\n",
       "      <td>...</td>\n",
       "      <td>...</td>\n",
       "    </tr>\n",
       "    <tr>\n",
       "      <th>95</th>\n",
       "      <td>96</td>\n",
       "      <td>59</td>\n",
       "      <td>M</td>\n",
       "      <td>181.9</td>\n",
       "      <td>2622.8</td>\n",
       "      <td>3656.2</td>\n",
       "      <td>1033.4</td>\n",
       "      <td>0.60000</td>\n",
       "      <td>2</td>\n",
       "      <td>Lightly Active</td>\n",
       "      <td>Excellent</td>\n",
       "      <td>3</td>\n",
       "      <td>182.5</td>\n",
       "    </tr>\n",
       "    <tr>\n",
       "      <th>96</th>\n",
       "      <td>97</td>\n",
       "      <td>56</td>\n",
       "      <td>F</td>\n",
       "      <td>116.5</td>\n",
       "      <td>1736.5</td>\n",
       "      <td>2756.5</td>\n",
       "      <td>1020.0</td>\n",
       "      <td>-8.92309</td>\n",
       "      <td>12</td>\n",
       "      <td>Moderately Active</td>\n",
       "      <td>Good</td>\n",
       "      <td>9</td>\n",
       "      <td>107.6</td>\n",
       "    </tr>\n",
       "    <tr>\n",
       "      <th>97</th>\n",
       "      <td>98</td>\n",
       "      <td>58</td>\n",
       "      <td>F</td>\n",
       "      <td>162.7</td>\n",
       "      <td>2188.6</td>\n",
       "      <td>3344.3</td>\n",
       "      <td>1155.8</td>\n",
       "      <td>3.60000</td>\n",
       "      <td>12</td>\n",
       "      <td>Lightly Active</td>\n",
       "      <td>Fair</td>\n",
       "      <td>7</td>\n",
       "      <td>166.3</td>\n",
       "    </tr>\n",
       "    <tr>\n",
       "      <th>98</th>\n",
       "      <td>99</td>\n",
       "      <td>45</td>\n",
       "      <td>M</td>\n",
       "      <td>179.8</td>\n",
       "      <td>2671.9</td>\n",
       "      <td>4000.0</td>\n",
       "      <td>1328.1</td>\n",
       "      <td>2.00000</td>\n",
       "      <td>5</td>\n",
       "      <td>Moderately Active</td>\n",
       "      <td>Fair</td>\n",
       "      <td>5</td>\n",
       "      <td>181.8</td>\n",
       "    </tr>\n",
       "    <tr>\n",
       "      <th>99</th>\n",
       "      <td>100</td>\n",
       "      <td>24</td>\n",
       "      <td>M</td>\n",
       "      <td>185.2</td>\n",
       "      <td>2830.7</td>\n",
       "      <td>4000.0</td>\n",
       "      <td>1169.3</td>\n",
       "      <td>2.70000</td>\n",
       "      <td>9</td>\n",
       "      <td>Very Active</td>\n",
       "      <td>Fair</td>\n",
       "      <td>7</td>\n",
       "      <td>187.9</td>\n",
       "    </tr>\n",
       "  </tbody>\n",
       "</table>\n",
       "<p>100 rows × 13 columns</p>\n",
       "</div>"
      ],
      "text/plain": [
       "    Participant ID  Age Gender  Current Weight (lbs)  BMR (Calories)  \\\n",
       "0                1   56      M                 228.4          3102.3   \n",
       "1                2   46      F                 165.4          2275.5   \n",
       "2                3   32      F                 142.8          2119.4   \n",
       "3                4   25      F                 145.5          2181.3   \n",
       "4                5   38      M                 155.5          2463.8   \n",
       "..             ...  ...    ...                   ...             ...   \n",
       "95              96   59      M                 181.9          2622.8   \n",
       "96              97   56      F                 116.5          1736.5   \n",
       "97              98   58      F                 162.7          2188.6   \n",
       "98              99   45      M                 179.8          2671.9   \n",
       "99             100   24      M                 185.2          2830.7   \n",
       "\n",
       "    Daily Calories Consumed  Daily Caloric Surplus/Deficit  \\\n",
       "0                    3916.0                          813.7   \n",
       "1                    3823.0                         1547.5   \n",
       "2                    2785.4                          666.0   \n",
       "3                    2587.3                          406.0   \n",
       "4                    3312.8                          849.0   \n",
       "..                      ...                            ...   \n",
       "95                   3656.2                         1033.4   \n",
       "96                   2756.5                         1020.0   \n",
       "97                   3344.3                         1155.8   \n",
       "98                   4000.0                         1328.1   \n",
       "99                   4000.0                         1169.3   \n",
       "\n",
       "    Weight Change (lbs)  Duration (weeks) Physical Activity Level  \\\n",
       "0               0.20000                 1               Sedentary   \n",
       "1               2.40000                 6             Very Active   \n",
       "2               1.40000                 7               Sedentary   \n",
       "3               0.80000                 8               Sedentary   \n",
       "4               2.00000                10          Lightly Active   \n",
       "..                  ...               ...                     ...   \n",
       "95              0.60000                 2          Lightly Active   \n",
       "96             -8.92309                12       Moderately Active   \n",
       "97              3.60000                12          Lightly Active   \n",
       "98              2.00000                 5       Moderately Active   \n",
       "99              2.70000                 9             Very Active   \n",
       "\n",
       "   Sleep Quality  Stress Level  Final Weight (lbs)  \n",
       "0      Excellent             6               228.6  \n",
       "1      Excellent             6               167.8  \n",
       "2           Good             3               144.2  \n",
       "3           Fair             2               146.3  \n",
       "4           Good             1               157.5  \n",
       "..           ...           ...                 ...  \n",
       "95     Excellent             3               182.5  \n",
       "96          Good             9               107.6  \n",
       "97          Fair             7               166.3  \n",
       "98          Fair             5               181.8  \n",
       "99          Fair             7               187.9  \n",
       "\n",
       "[100 rows x 13 columns]"
      ]
     },
     "execution_count": 5,
     "metadata": {},
     "output_type": "execute_result"
    }
   ],
   "source": [
    "# Change these path\n",
    "df = pd.read_csv(\"./weight_change_dataset.csv\")\n",
    "df"
   ]
  },
  {
   "cell_type": "markdown",
   "id": "a317962e",
   "metadata": {
    "papermill": {
     "duration": 0.008427,
     "end_time": "2024-12-05T19:53:19.743400",
     "exception": false,
     "start_time": "2024-12-05T19:53:19.734973",
     "status": "completed"
    },
    "tags": []
   },
   "source": [
    "## Create Target Label"
   ]
  },
  {
   "cell_type": "code",
   "execution_count": 6,
   "id": "bbff0272",
   "metadata": {
    "execution": {
     "iopub.execute_input": "2024-12-05T19:53:19.764666Z",
     "iopub.status.busy": "2024-12-05T19:53:19.764262Z",
     "iopub.status.idle": "2024-12-05T19:53:19.776107Z",
     "shell.execute_reply": "2024-12-05T19:53:19.774910Z"
    },
    "papermill": {
     "duration": 0.024714,
     "end_time": "2024-12-05T19:53:19.778290",
     "exception": false,
     "start_time": "2024-12-05T19:53:19.753576",
     "status": "completed"
    },
    "tags": []
   },
   "outputs": [],
   "source": [
    "TARGET = \"Healthy Caloric Intake\"\n",
    "\n",
    "# Define activity multipliers\n",
    "activity_multipliers = {\n",
    "    \"Sedentary\": 1.2,\n",
    "    \"Lightly Active\": 1.375,\n",
    "    \"Moderately Active\": 1.55,\n",
    "    \"Very Active\": 1.725\n",
    "}\n",
    "\n",
    "# Calculate caloric adjustment based on weight change and duration\n",
    "df['Caloric Adjustment'] = (df['Weight Change (lbs)'] * 3500) / (df['Duration (weeks)'] * 7)\n",
    "\n",
    "# Calculate healthy caloric intake\n",
    "df[TARGET] = (\n",
    "    df['BMR (Calories)'] * df['Physical Activity Level'].map(activity_multipliers) + df['Caloric Adjustment']\n",
    ")"
   ]
  },
  {
   "cell_type": "code",
   "execution_count": 7,
   "id": "17b96eaf",
   "metadata": {
    "execution": {
     "iopub.execute_input": "2024-12-05T19:53:19.797660Z",
     "iopub.status.busy": "2024-12-05T19:53:19.797250Z",
     "iopub.status.idle": "2024-12-05T19:53:19.821466Z",
     "shell.execute_reply": "2024-12-05T19:53:19.820287Z"
    },
    "papermill": {
     "duration": 0.036654,
     "end_time": "2024-12-05T19:53:19.823908",
     "exception": false,
     "start_time": "2024-12-05T19:53:19.787254",
     "status": "completed"
    },
    "tags": []
   },
   "outputs": [
    {
     "data": {
      "text/html": [
       "<div>\n",
       "<style scoped>\n",
       "    .dataframe tbody tr th:only-of-type {\n",
       "        vertical-align: middle;\n",
       "    }\n",
       "\n",
       "    .dataframe tbody tr th {\n",
       "        vertical-align: top;\n",
       "    }\n",
       "\n",
       "    .dataframe thead th {\n",
       "        text-align: right;\n",
       "    }\n",
       "</style>\n",
       "<table border=\"1\" class=\"dataframe\">\n",
       "  <thead>\n",
       "    <tr style=\"text-align: right;\">\n",
       "      <th></th>\n",
       "      <th>Participant ID</th>\n",
       "      <th>Age</th>\n",
       "      <th>Gender</th>\n",
       "      <th>Current Weight (lbs)</th>\n",
       "      <th>BMR (Calories)</th>\n",
       "      <th>Daily Calories Consumed</th>\n",
       "      <th>Daily Caloric Surplus/Deficit</th>\n",
       "      <th>Weight Change (lbs)</th>\n",
       "      <th>Duration (weeks)</th>\n",
       "      <th>Physical Activity Level</th>\n",
       "      <th>Sleep Quality</th>\n",
       "      <th>Stress Level</th>\n",
       "      <th>Final Weight (lbs)</th>\n",
       "      <th>Caloric Adjustment</th>\n",
       "      <th>Healthy Caloric Intake</th>\n",
       "    </tr>\n",
       "  </thead>\n",
       "  <tbody>\n",
       "    <tr>\n",
       "      <th>0</th>\n",
       "      <td>1</td>\n",
       "      <td>56</td>\n",
       "      <td>M</td>\n",
       "      <td>228.4</td>\n",
       "      <td>3102.3</td>\n",
       "      <td>3916.0</td>\n",
       "      <td>813.7</td>\n",
       "      <td>0.20000</td>\n",
       "      <td>1</td>\n",
       "      <td>Sedentary</td>\n",
       "      <td>Excellent</td>\n",
       "      <td>6</td>\n",
       "      <td>228.6</td>\n",
       "      <td>100.000000</td>\n",
       "      <td>3822.760000</td>\n",
       "    </tr>\n",
       "    <tr>\n",
       "      <th>1</th>\n",
       "      <td>2</td>\n",
       "      <td>46</td>\n",
       "      <td>F</td>\n",
       "      <td>165.4</td>\n",
       "      <td>2275.5</td>\n",
       "      <td>3823.0</td>\n",
       "      <td>1547.5</td>\n",
       "      <td>2.40000</td>\n",
       "      <td>6</td>\n",
       "      <td>Very Active</td>\n",
       "      <td>Excellent</td>\n",
       "      <td>6</td>\n",
       "      <td>167.8</td>\n",
       "      <td>200.000000</td>\n",
       "      <td>4125.237500</td>\n",
       "    </tr>\n",
       "    <tr>\n",
       "      <th>2</th>\n",
       "      <td>3</td>\n",
       "      <td>32</td>\n",
       "      <td>F</td>\n",
       "      <td>142.8</td>\n",
       "      <td>2119.4</td>\n",
       "      <td>2785.4</td>\n",
       "      <td>666.0</td>\n",
       "      <td>1.40000</td>\n",
       "      <td>7</td>\n",
       "      <td>Sedentary</td>\n",
       "      <td>Good</td>\n",
       "      <td>3</td>\n",
       "      <td>144.2</td>\n",
       "      <td>100.000000</td>\n",
       "      <td>2643.280000</td>\n",
       "    </tr>\n",
       "    <tr>\n",
       "      <th>3</th>\n",
       "      <td>4</td>\n",
       "      <td>25</td>\n",
       "      <td>F</td>\n",
       "      <td>145.5</td>\n",
       "      <td>2181.3</td>\n",
       "      <td>2587.3</td>\n",
       "      <td>406.0</td>\n",
       "      <td>0.80000</td>\n",
       "      <td>8</td>\n",
       "      <td>Sedentary</td>\n",
       "      <td>Fair</td>\n",
       "      <td>2</td>\n",
       "      <td>146.3</td>\n",
       "      <td>50.000000</td>\n",
       "      <td>2667.560000</td>\n",
       "    </tr>\n",
       "    <tr>\n",
       "      <th>4</th>\n",
       "      <td>5</td>\n",
       "      <td>38</td>\n",
       "      <td>M</td>\n",
       "      <td>155.5</td>\n",
       "      <td>2463.8</td>\n",
       "      <td>3312.8</td>\n",
       "      <td>849.0</td>\n",
       "      <td>2.00000</td>\n",
       "      <td>10</td>\n",
       "      <td>Lightly Active</td>\n",
       "      <td>Good</td>\n",
       "      <td>1</td>\n",
       "      <td>157.5</td>\n",
       "      <td>100.000000</td>\n",
       "      <td>3487.725000</td>\n",
       "    </tr>\n",
       "    <tr>\n",
       "      <th>...</th>\n",
       "      <td>...</td>\n",
       "      <td>...</td>\n",
       "      <td>...</td>\n",
       "      <td>...</td>\n",
       "      <td>...</td>\n",
       "      <td>...</td>\n",
       "      <td>...</td>\n",
       "      <td>...</td>\n",
       "      <td>...</td>\n",
       "      <td>...</td>\n",
       "      <td>...</td>\n",
       "      <td>...</td>\n",
       "      <td>...</td>\n",
       "      <td>...</td>\n",
       "      <td>...</td>\n",
       "    </tr>\n",
       "    <tr>\n",
       "      <th>95</th>\n",
       "      <td>96</td>\n",
       "      <td>59</td>\n",
       "      <td>M</td>\n",
       "      <td>181.9</td>\n",
       "      <td>2622.8</td>\n",
       "      <td>3656.2</td>\n",
       "      <td>1033.4</td>\n",
       "      <td>0.60000</td>\n",
       "      <td>2</td>\n",
       "      <td>Lightly Active</td>\n",
       "      <td>Excellent</td>\n",
       "      <td>3</td>\n",
       "      <td>182.5</td>\n",
       "      <td>150.000000</td>\n",
       "      <td>3756.350000</td>\n",
       "    </tr>\n",
       "    <tr>\n",
       "      <th>96</th>\n",
       "      <td>97</td>\n",
       "      <td>56</td>\n",
       "      <td>F</td>\n",
       "      <td>116.5</td>\n",
       "      <td>1736.5</td>\n",
       "      <td>2756.5</td>\n",
       "      <td>1020.0</td>\n",
       "      <td>-8.92309</td>\n",
       "      <td>12</td>\n",
       "      <td>Moderately Active</td>\n",
       "      <td>Good</td>\n",
       "      <td>9</td>\n",
       "      <td>107.6</td>\n",
       "      <td>-371.795424</td>\n",
       "      <td>2319.779576</td>\n",
       "    </tr>\n",
       "    <tr>\n",
       "      <th>97</th>\n",
       "      <td>98</td>\n",
       "      <td>58</td>\n",
       "      <td>F</td>\n",
       "      <td>162.7</td>\n",
       "      <td>2188.6</td>\n",
       "      <td>3344.3</td>\n",
       "      <td>1155.8</td>\n",
       "      <td>3.60000</td>\n",
       "      <td>12</td>\n",
       "      <td>Lightly Active</td>\n",
       "      <td>Fair</td>\n",
       "      <td>7</td>\n",
       "      <td>166.3</td>\n",
       "      <td>150.000000</td>\n",
       "      <td>3159.325000</td>\n",
       "    </tr>\n",
       "    <tr>\n",
       "      <th>98</th>\n",
       "      <td>99</td>\n",
       "      <td>45</td>\n",
       "      <td>M</td>\n",
       "      <td>179.8</td>\n",
       "      <td>2671.9</td>\n",
       "      <td>4000.0</td>\n",
       "      <td>1328.1</td>\n",
       "      <td>2.00000</td>\n",
       "      <td>5</td>\n",
       "      <td>Moderately Active</td>\n",
       "      <td>Fair</td>\n",
       "      <td>5</td>\n",
       "      <td>181.8</td>\n",
       "      <td>200.000000</td>\n",
       "      <td>4341.445000</td>\n",
       "    </tr>\n",
       "    <tr>\n",
       "      <th>99</th>\n",
       "      <td>100</td>\n",
       "      <td>24</td>\n",
       "      <td>M</td>\n",
       "      <td>185.2</td>\n",
       "      <td>2830.7</td>\n",
       "      <td>4000.0</td>\n",
       "      <td>1169.3</td>\n",
       "      <td>2.70000</td>\n",
       "      <td>9</td>\n",
       "      <td>Very Active</td>\n",
       "      <td>Fair</td>\n",
       "      <td>7</td>\n",
       "      <td>187.9</td>\n",
       "      <td>150.000000</td>\n",
       "      <td>5032.957500</td>\n",
       "    </tr>\n",
       "  </tbody>\n",
       "</table>\n",
       "<p>100 rows × 15 columns</p>\n",
       "</div>"
      ],
      "text/plain": [
       "    Participant ID  Age Gender  Current Weight (lbs)  BMR (Calories)  \\\n",
       "0                1   56      M                 228.4          3102.3   \n",
       "1                2   46      F                 165.4          2275.5   \n",
       "2                3   32      F                 142.8          2119.4   \n",
       "3                4   25      F                 145.5          2181.3   \n",
       "4                5   38      M                 155.5          2463.8   \n",
       "..             ...  ...    ...                   ...             ...   \n",
       "95              96   59      M                 181.9          2622.8   \n",
       "96              97   56      F                 116.5          1736.5   \n",
       "97              98   58      F                 162.7          2188.6   \n",
       "98              99   45      M                 179.8          2671.9   \n",
       "99             100   24      M                 185.2          2830.7   \n",
       "\n",
       "    Daily Calories Consumed  Daily Caloric Surplus/Deficit  \\\n",
       "0                    3916.0                          813.7   \n",
       "1                    3823.0                         1547.5   \n",
       "2                    2785.4                          666.0   \n",
       "3                    2587.3                          406.0   \n",
       "4                    3312.8                          849.0   \n",
       "..                      ...                            ...   \n",
       "95                   3656.2                         1033.4   \n",
       "96                   2756.5                         1020.0   \n",
       "97                   3344.3                         1155.8   \n",
       "98                   4000.0                         1328.1   \n",
       "99                   4000.0                         1169.3   \n",
       "\n",
       "    Weight Change (lbs)  Duration (weeks) Physical Activity Level  \\\n",
       "0               0.20000                 1               Sedentary   \n",
       "1               2.40000                 6             Very Active   \n",
       "2               1.40000                 7               Sedentary   \n",
       "3               0.80000                 8               Sedentary   \n",
       "4               2.00000                10          Lightly Active   \n",
       "..                  ...               ...                     ...   \n",
       "95              0.60000                 2          Lightly Active   \n",
       "96             -8.92309                12       Moderately Active   \n",
       "97              3.60000                12          Lightly Active   \n",
       "98              2.00000                 5       Moderately Active   \n",
       "99              2.70000                 9             Very Active   \n",
       "\n",
       "   Sleep Quality  Stress Level  Final Weight (lbs)  Caloric Adjustment  \\\n",
       "0      Excellent             6               228.6          100.000000   \n",
       "1      Excellent             6               167.8          200.000000   \n",
       "2           Good             3               144.2          100.000000   \n",
       "3           Fair             2               146.3           50.000000   \n",
       "4           Good             1               157.5          100.000000   \n",
       "..           ...           ...                 ...                 ...   \n",
       "95     Excellent             3               182.5          150.000000   \n",
       "96          Good             9               107.6         -371.795424   \n",
       "97          Fair             7               166.3          150.000000   \n",
       "98          Fair             5               181.8          200.000000   \n",
       "99          Fair             7               187.9          150.000000   \n",
       "\n",
       "    Healthy Caloric Intake  \n",
       "0              3822.760000  \n",
       "1              4125.237500  \n",
       "2              2643.280000  \n",
       "3              2667.560000  \n",
       "4              3487.725000  \n",
       "..                     ...  \n",
       "95             3756.350000  \n",
       "96             2319.779576  \n",
       "97             3159.325000  \n",
       "98             4341.445000  \n",
       "99             5032.957500  \n",
       "\n",
       "[100 rows x 15 columns]"
      ]
     },
     "execution_count": 7,
     "metadata": {},
     "output_type": "execute_result"
    }
   ],
   "source": [
    "df"
   ]
  },
  {
   "cell_type": "code",
   "execution_count": 8,
   "id": "60b9cfa0",
   "metadata": {
    "execution": {
     "iopub.execute_input": "2024-12-05T19:53:19.844925Z",
     "iopub.status.busy": "2024-12-05T19:53:19.844463Z",
     "iopub.status.idle": "2024-12-05T19:53:19.865978Z",
     "shell.execute_reply": "2024-12-05T19:53:19.864983Z"
    },
    "papermill": {
     "duration": 0.034772,
     "end_time": "2024-12-05T19:53:19.868128",
     "exception": false,
     "start_time": "2024-12-05T19:53:19.833356",
     "status": "completed"
    },
    "tags": []
   },
   "outputs": [
    {
     "data": {
      "text/html": [
       "<div>\n",
       "<style scoped>\n",
       "    .dataframe tbody tr th:only-of-type {\n",
       "        vertical-align: middle;\n",
       "    }\n",
       "\n",
       "    .dataframe tbody tr th {\n",
       "        vertical-align: top;\n",
       "    }\n",
       "\n",
       "    .dataframe thead th {\n",
       "        text-align: right;\n",
       "    }\n",
       "</style>\n",
       "<table border=\"1\" class=\"dataframe\">\n",
       "  <thead>\n",
       "    <tr style=\"text-align: right;\">\n",
       "      <th></th>\n",
       "      <th>Age</th>\n",
       "      <th>Gender</th>\n",
       "      <th>Current Weight (lbs)</th>\n",
       "      <th>Daily Calories Consumed</th>\n",
       "      <th>Weight Change (lbs)</th>\n",
       "      <th>Duration (weeks)</th>\n",
       "      <th>Physical Activity Level</th>\n",
       "      <th>Sleep Quality</th>\n",
       "      <th>Stress Level</th>\n",
       "      <th>Caloric Adjustment</th>\n",
       "      <th>Healthy Caloric Intake</th>\n",
       "    </tr>\n",
       "  </thead>\n",
       "  <tbody>\n",
       "    <tr>\n",
       "      <th>0</th>\n",
       "      <td>56</td>\n",
       "      <td>M</td>\n",
       "      <td>228.4</td>\n",
       "      <td>3916.0</td>\n",
       "      <td>0.20000</td>\n",
       "      <td>1</td>\n",
       "      <td>Sedentary</td>\n",
       "      <td>Excellent</td>\n",
       "      <td>6</td>\n",
       "      <td>100.000000</td>\n",
       "      <td>3822.760000</td>\n",
       "    </tr>\n",
       "    <tr>\n",
       "      <th>1</th>\n",
       "      <td>46</td>\n",
       "      <td>F</td>\n",
       "      <td>165.4</td>\n",
       "      <td>3823.0</td>\n",
       "      <td>2.40000</td>\n",
       "      <td>6</td>\n",
       "      <td>Very Active</td>\n",
       "      <td>Excellent</td>\n",
       "      <td>6</td>\n",
       "      <td>200.000000</td>\n",
       "      <td>4125.237500</td>\n",
       "    </tr>\n",
       "    <tr>\n",
       "      <th>2</th>\n",
       "      <td>32</td>\n",
       "      <td>F</td>\n",
       "      <td>142.8</td>\n",
       "      <td>2785.4</td>\n",
       "      <td>1.40000</td>\n",
       "      <td>7</td>\n",
       "      <td>Sedentary</td>\n",
       "      <td>Good</td>\n",
       "      <td>3</td>\n",
       "      <td>100.000000</td>\n",
       "      <td>2643.280000</td>\n",
       "    </tr>\n",
       "    <tr>\n",
       "      <th>3</th>\n",
       "      <td>25</td>\n",
       "      <td>F</td>\n",
       "      <td>145.5</td>\n",
       "      <td>2587.3</td>\n",
       "      <td>0.80000</td>\n",
       "      <td>8</td>\n",
       "      <td>Sedentary</td>\n",
       "      <td>Fair</td>\n",
       "      <td>2</td>\n",
       "      <td>50.000000</td>\n",
       "      <td>2667.560000</td>\n",
       "    </tr>\n",
       "    <tr>\n",
       "      <th>4</th>\n",
       "      <td>38</td>\n",
       "      <td>M</td>\n",
       "      <td>155.5</td>\n",
       "      <td>3312.8</td>\n",
       "      <td>2.00000</td>\n",
       "      <td>10</td>\n",
       "      <td>Lightly Active</td>\n",
       "      <td>Good</td>\n",
       "      <td>1</td>\n",
       "      <td>100.000000</td>\n",
       "      <td>3487.725000</td>\n",
       "    </tr>\n",
       "    <tr>\n",
       "      <th>...</th>\n",
       "      <td>...</td>\n",
       "      <td>...</td>\n",
       "      <td>...</td>\n",
       "      <td>...</td>\n",
       "      <td>...</td>\n",
       "      <td>...</td>\n",
       "      <td>...</td>\n",
       "      <td>...</td>\n",
       "      <td>...</td>\n",
       "      <td>...</td>\n",
       "      <td>...</td>\n",
       "    </tr>\n",
       "    <tr>\n",
       "      <th>95</th>\n",
       "      <td>59</td>\n",
       "      <td>M</td>\n",
       "      <td>181.9</td>\n",
       "      <td>3656.2</td>\n",
       "      <td>0.60000</td>\n",
       "      <td>2</td>\n",
       "      <td>Lightly Active</td>\n",
       "      <td>Excellent</td>\n",
       "      <td>3</td>\n",
       "      <td>150.000000</td>\n",
       "      <td>3756.350000</td>\n",
       "    </tr>\n",
       "    <tr>\n",
       "      <th>96</th>\n",
       "      <td>56</td>\n",
       "      <td>F</td>\n",
       "      <td>116.5</td>\n",
       "      <td>2756.5</td>\n",
       "      <td>-8.92309</td>\n",
       "      <td>12</td>\n",
       "      <td>Moderately Active</td>\n",
       "      <td>Good</td>\n",
       "      <td>9</td>\n",
       "      <td>-371.795424</td>\n",
       "      <td>2319.779576</td>\n",
       "    </tr>\n",
       "    <tr>\n",
       "      <th>97</th>\n",
       "      <td>58</td>\n",
       "      <td>F</td>\n",
       "      <td>162.7</td>\n",
       "      <td>3344.3</td>\n",
       "      <td>3.60000</td>\n",
       "      <td>12</td>\n",
       "      <td>Lightly Active</td>\n",
       "      <td>Fair</td>\n",
       "      <td>7</td>\n",
       "      <td>150.000000</td>\n",
       "      <td>3159.325000</td>\n",
       "    </tr>\n",
       "    <tr>\n",
       "      <th>98</th>\n",
       "      <td>45</td>\n",
       "      <td>M</td>\n",
       "      <td>179.8</td>\n",
       "      <td>4000.0</td>\n",
       "      <td>2.00000</td>\n",
       "      <td>5</td>\n",
       "      <td>Moderately Active</td>\n",
       "      <td>Fair</td>\n",
       "      <td>5</td>\n",
       "      <td>200.000000</td>\n",
       "      <td>4341.445000</td>\n",
       "    </tr>\n",
       "    <tr>\n",
       "      <th>99</th>\n",
       "      <td>24</td>\n",
       "      <td>M</td>\n",
       "      <td>185.2</td>\n",
       "      <td>4000.0</td>\n",
       "      <td>2.70000</td>\n",
       "      <td>9</td>\n",
       "      <td>Very Active</td>\n",
       "      <td>Fair</td>\n",
       "      <td>7</td>\n",
       "      <td>150.000000</td>\n",
       "      <td>5032.957500</td>\n",
       "    </tr>\n",
       "  </tbody>\n",
       "</table>\n",
       "<p>100 rows × 11 columns</p>\n",
       "</div>"
      ],
      "text/plain": [
       "    Age Gender  Current Weight (lbs)  Daily Calories Consumed  \\\n",
       "0    56      M                 228.4                   3916.0   \n",
       "1    46      F                 165.4                   3823.0   \n",
       "2    32      F                 142.8                   2785.4   \n",
       "3    25      F                 145.5                   2587.3   \n",
       "4    38      M                 155.5                   3312.8   \n",
       "..  ...    ...                   ...                      ...   \n",
       "95   59      M                 181.9                   3656.2   \n",
       "96   56      F                 116.5                   2756.5   \n",
       "97   58      F                 162.7                   3344.3   \n",
       "98   45      M                 179.8                   4000.0   \n",
       "99   24      M                 185.2                   4000.0   \n",
       "\n",
       "    Weight Change (lbs)  Duration (weeks) Physical Activity Level  \\\n",
       "0               0.20000                 1               Sedentary   \n",
       "1               2.40000                 6             Very Active   \n",
       "2               1.40000                 7               Sedentary   \n",
       "3               0.80000                 8               Sedentary   \n",
       "4               2.00000                10          Lightly Active   \n",
       "..                  ...               ...                     ...   \n",
       "95              0.60000                 2          Lightly Active   \n",
       "96             -8.92309                12       Moderately Active   \n",
       "97              3.60000                12          Lightly Active   \n",
       "98              2.00000                 5       Moderately Active   \n",
       "99              2.70000                 9             Very Active   \n",
       "\n",
       "   Sleep Quality  Stress Level  Caloric Adjustment  Healthy Caloric Intake  \n",
       "0      Excellent             6          100.000000             3822.760000  \n",
       "1      Excellent             6          200.000000             4125.237500  \n",
       "2           Good             3          100.000000             2643.280000  \n",
       "3           Fair             2           50.000000             2667.560000  \n",
       "4           Good             1          100.000000             3487.725000  \n",
       "..           ...           ...                 ...                     ...  \n",
       "95     Excellent             3          150.000000             3756.350000  \n",
       "96          Good             9         -371.795424             2319.779576  \n",
       "97          Fair             7          150.000000             3159.325000  \n",
       "98          Fair             5          200.000000             4341.445000  \n",
       "99          Fair             7          150.000000             5032.957500  \n",
       "\n",
       "[100 rows x 11 columns]"
      ]
     },
     "execution_count": 8,
     "metadata": {},
     "output_type": "execute_result"
    }
   ],
   "source": [
    "# Drop data that leaks information\n",
    "to_drop = [\"Participant ID\", \"BMR (Calories)\", \"Daily Caloric Surplus/Deficit\", \"Final Weight (lbs)\"]\n",
    "\n",
    "df.drop(columns=to_drop, axis=1, inplace=True)\n",
    "\n",
    "df"
   ]
  },
  {
   "cell_type": "markdown",
   "id": "e0cc2256",
   "metadata": {
    "papermill": {
     "duration": 0.009192,
     "end_time": "2024-12-05T19:53:19.887337",
     "exception": false,
     "start_time": "2024-12-05T19:53:19.878145",
     "status": "completed"
    },
    "tags": []
   },
   "source": [
    "## Split Training and Test"
   ]
  },
  {
   "cell_type": "code",
   "execution_count": 9,
   "id": "04979de3",
   "metadata": {
    "execution": {
     "iopub.execute_input": "2024-12-05T19:53:19.908109Z",
     "iopub.status.busy": "2024-12-05T19:53:19.907689Z",
     "iopub.status.idle": "2024-12-05T19:53:19.931065Z",
     "shell.execute_reply": "2024-12-05T19:53:19.929987Z"
    },
    "papermill": {
     "duration": 0.036835,
     "end_time": "2024-12-05T19:53:19.933559",
     "exception": false,
     "start_time": "2024-12-05T19:53:19.896724",
     "status": "completed"
    },
    "tags": []
   },
   "outputs": [],
   "source": [
    "from sklearn.model_selection import train_test_split\n",
    "\n",
    "train_set, test_set = train_test_split(df, test_size=0.2, random_state=RANDOM_STATE)"
   ]
  },
  {
   "cell_type": "code",
   "execution_count": 10,
   "id": "034c0947",
   "metadata": {
    "execution": {
     "iopub.execute_input": "2024-12-05T19:53:19.954546Z",
     "iopub.status.busy": "2024-12-05T19:53:19.954108Z",
     "iopub.status.idle": "2024-12-05T19:53:19.973427Z",
     "shell.execute_reply": "2024-12-05T19:53:19.972274Z"
    },
    "papermill": {
     "duration": 0.032612,
     "end_time": "2024-12-05T19:53:19.975892",
     "exception": false,
     "start_time": "2024-12-05T19:53:19.943280",
     "status": "completed"
    },
    "tags": []
   },
   "outputs": [
    {
     "data": {
      "text/html": [
       "<div>\n",
       "<style scoped>\n",
       "    .dataframe tbody tr th:only-of-type {\n",
       "        vertical-align: middle;\n",
       "    }\n",
       "\n",
       "    .dataframe tbody tr th {\n",
       "        vertical-align: top;\n",
       "    }\n",
       "\n",
       "    .dataframe thead th {\n",
       "        text-align: right;\n",
       "    }\n",
       "</style>\n",
       "<table border=\"1\" class=\"dataframe\">\n",
       "  <thead>\n",
       "    <tr style=\"text-align: right;\">\n",
       "      <th></th>\n",
       "      <th>Age</th>\n",
       "      <th>Gender</th>\n",
       "      <th>Current Weight (lbs)</th>\n",
       "      <th>Daily Calories Consumed</th>\n",
       "      <th>Weight Change (lbs)</th>\n",
       "      <th>Duration (weeks)</th>\n",
       "      <th>Physical Activity Level</th>\n",
       "      <th>Sleep Quality</th>\n",
       "      <th>Stress Level</th>\n",
       "      <th>Caloric Adjustment</th>\n",
       "      <th>Healthy Caloric Intake</th>\n",
       "    </tr>\n",
       "  </thead>\n",
       "  <tbody>\n",
       "    <tr>\n",
       "      <th>55</th>\n",
       "      <td>23</td>\n",
       "      <td>F</td>\n",
       "      <td>185.0</td>\n",
       "      <td>3327.8</td>\n",
       "      <td>2.000000</td>\n",
       "      <td>10</td>\n",
       "      <td>Sedentary</td>\n",
       "      <td>Good</td>\n",
       "      <td>3</td>\n",
       "      <td>100.000000</td>\n",
       "      <td>3204.400000</td>\n",
       "    </tr>\n",
       "    <tr>\n",
       "      <th>88</th>\n",
       "      <td>28</td>\n",
       "      <td>M</td>\n",
       "      <td>209.0</td>\n",
       "      <td>4000.0</td>\n",
       "      <td>-4.454839</td>\n",
       "      <td>10</td>\n",
       "      <td>Lightly Active</td>\n",
       "      <td>Poor</td>\n",
       "      <td>3</td>\n",
       "      <td>-222.741957</td>\n",
       "      <td>3969.495543</td>\n",
       "    </tr>\n",
       "    <tr>\n",
       "      <th>26</th>\n",
       "      <td>44</td>\n",
       "      <td>M</td>\n",
       "      <td>191.8</td>\n",
       "      <td>4000.0</td>\n",
       "      <td>3.600000</td>\n",
       "      <td>12</td>\n",
       "      <td>Moderately Active</td>\n",
       "      <td>Fair</td>\n",
       "      <td>1</td>\n",
       "      <td>150.000000</td>\n",
       "      <td>4485.505000</td>\n",
       "    </tr>\n",
       "    <tr>\n",
       "      <th>42</th>\n",
       "      <td>43</td>\n",
       "      <td>M</td>\n",
       "      <td>182.8</td>\n",
       "      <td>4000.0</td>\n",
       "      <td>2.800000</td>\n",
       "      <td>7</td>\n",
       "      <td>Very Active</td>\n",
       "      <td>Good</td>\n",
       "      <td>2</td>\n",
       "      <td>200.000000</td>\n",
       "      <td>4878.545000</td>\n",
       "    </tr>\n",
       "    <tr>\n",
       "      <th>69</th>\n",
       "      <td>40</td>\n",
       "      <td>F</td>\n",
       "      <td>137.2</td>\n",
       "      <td>3827.8</td>\n",
       "      <td>-10.263076</td>\n",
       "      <td>9</td>\n",
       "      <td>Very Active</td>\n",
       "      <td>Poor</td>\n",
       "      <td>1</td>\n",
       "      <td>-570.170895</td>\n",
       "      <td>2920.021605</td>\n",
       "    </tr>\n",
       "    <tr>\n",
       "      <th>...</th>\n",
       "      <td>...</td>\n",
       "      <td>...</td>\n",
       "      <td>...</td>\n",
       "      <td>...</td>\n",
       "      <td>...</td>\n",
       "      <td>...</td>\n",
       "      <td>...</td>\n",
       "      <td>...</td>\n",
       "      <td>...</td>\n",
       "      <td>...</td>\n",
       "      <td>...</td>\n",
       "    </tr>\n",
       "    <tr>\n",
       "      <th>60</th>\n",
       "      <td>43</td>\n",
       "      <td>M</td>\n",
       "      <td>173.3</td>\n",
       "      <td>4000.0</td>\n",
       "      <td>4.400000</td>\n",
       "      <td>11</td>\n",
       "      <td>Moderately Active</td>\n",
       "      <td>Good</td>\n",
       "      <td>5</td>\n",
       "      <td>200.000000</td>\n",
       "      <td>4255.420000</td>\n",
       "    </tr>\n",
       "    <tr>\n",
       "      <th>71</th>\n",
       "      <td>38</td>\n",
       "      <td>F</td>\n",
       "      <td>145.9</td>\n",
       "      <td>3734.5</td>\n",
       "      <td>-1.394358</td>\n",
       "      <td>1</td>\n",
       "      <td>Very Active</td>\n",
       "      <td>Poor</td>\n",
       "      <td>9</td>\n",
       "      <td>-697.179152</td>\n",
       "      <td>2960.683348</td>\n",
       "    </tr>\n",
       "    <tr>\n",
       "      <th>14</th>\n",
       "      <td>20</td>\n",
       "      <td>F</td>\n",
       "      <td>168.1</td>\n",
       "      <td>3885.8</td>\n",
       "      <td>-2.330964</td>\n",
       "      <td>8</td>\n",
       "      <td>Very Active</td>\n",
       "      <td>Poor</td>\n",
       "      <td>7</td>\n",
       "      <td>-145.685227</td>\n",
       "      <td>4049.859773</td>\n",
       "    </tr>\n",
       "    <tr>\n",
       "      <th>92</th>\n",
       "      <td>52</td>\n",
       "      <td>M</td>\n",
       "      <td>169.9</td>\n",
       "      <td>3269.5</td>\n",
       "      <td>1.600000</td>\n",
       "      <td>8</td>\n",
       "      <td>Sedentary</td>\n",
       "      <td>Fair</td>\n",
       "      <td>2</td>\n",
       "      <td>100.000000</td>\n",
       "      <td>3144.760000</td>\n",
       "    </tr>\n",
       "    <tr>\n",
       "      <th>51</th>\n",
       "      <td>53</td>\n",
       "      <td>M</td>\n",
       "      <td>154.3</td>\n",
       "      <td>3544.5</td>\n",
       "      <td>-0.961416</td>\n",
       "      <td>1</td>\n",
       "      <td>Moderately Active</td>\n",
       "      <td>Poor</td>\n",
       "      <td>4</td>\n",
       "      <td>-480.707784</td>\n",
       "      <td>3203.642216</td>\n",
       "    </tr>\n",
       "  </tbody>\n",
       "</table>\n",
       "<p>80 rows × 11 columns</p>\n",
       "</div>"
      ],
      "text/plain": [
       "    Age Gender  Current Weight (lbs)  Daily Calories Consumed  \\\n",
       "55   23      F                 185.0                   3327.8   \n",
       "88   28      M                 209.0                   4000.0   \n",
       "26   44      M                 191.8                   4000.0   \n",
       "42   43      M                 182.8                   4000.0   \n",
       "69   40      F                 137.2                   3827.8   \n",
       "..  ...    ...                   ...                      ...   \n",
       "60   43      M                 173.3                   4000.0   \n",
       "71   38      F                 145.9                   3734.5   \n",
       "14   20      F                 168.1                   3885.8   \n",
       "92   52      M                 169.9                   3269.5   \n",
       "51   53      M                 154.3                   3544.5   \n",
       "\n",
       "    Weight Change (lbs)  Duration (weeks) Physical Activity Level  \\\n",
       "55             2.000000                10               Sedentary   \n",
       "88            -4.454839                10          Lightly Active   \n",
       "26             3.600000                12       Moderately Active   \n",
       "42             2.800000                 7             Very Active   \n",
       "69           -10.263076                 9             Very Active   \n",
       "..                  ...               ...                     ...   \n",
       "60             4.400000                11       Moderately Active   \n",
       "71            -1.394358                 1             Very Active   \n",
       "14            -2.330964                 8             Very Active   \n",
       "92             1.600000                 8               Sedentary   \n",
       "51            -0.961416                 1       Moderately Active   \n",
       "\n",
       "   Sleep Quality  Stress Level  Caloric Adjustment  Healthy Caloric Intake  \n",
       "55          Good             3          100.000000             3204.400000  \n",
       "88          Poor             3         -222.741957             3969.495543  \n",
       "26          Fair             1          150.000000             4485.505000  \n",
       "42          Good             2          200.000000             4878.545000  \n",
       "69          Poor             1         -570.170895             2920.021605  \n",
       "..           ...           ...                 ...                     ...  \n",
       "60          Good             5          200.000000             4255.420000  \n",
       "71          Poor             9         -697.179152             2960.683348  \n",
       "14          Poor             7         -145.685227             4049.859773  \n",
       "92          Fair             2          100.000000             3144.760000  \n",
       "51          Poor             4         -480.707784             3203.642216  \n",
       "\n",
       "[80 rows x 11 columns]"
      ]
     },
     "execution_count": 10,
     "metadata": {},
     "output_type": "execute_result"
    }
   ],
   "source": [
    "train_set"
   ]
  },
  {
   "cell_type": "markdown",
   "id": "796c25ff",
   "metadata": {
    "papermill": {
     "duration": 0.011151,
     "end_time": "2024-12-05T19:53:19.997685",
     "exception": false,
     "start_time": "2024-12-05T19:53:19.986534",
     "status": "completed"
    },
    "tags": []
   },
   "source": [
    "## Data Stats"
   ]
  },
  {
   "cell_type": "code",
   "execution_count": 11,
   "id": "71ccbb4d",
   "metadata": {
    "execution": {
     "iopub.execute_input": "2024-12-05T19:53:20.019678Z",
     "iopub.status.busy": "2024-12-05T19:53:20.019317Z",
     "iopub.status.idle": "2024-12-05T19:53:20.047114Z",
     "shell.execute_reply": "2024-12-05T19:53:20.045702Z"
    },
    "papermill": {
     "duration": 0.041424,
     "end_time": "2024-12-05T19:53:20.049564",
     "exception": false,
     "start_time": "2024-12-05T19:53:20.008140",
     "status": "completed"
    },
    "tags": []
   },
   "outputs": [
    {
     "name": "stdout",
     "output_type": "stream",
     "text": [
      "<class 'pandas.core.frame.DataFrame'>\n",
      "Index: 80 entries, 55 to 51\n",
      "Data columns (total 11 columns):\n",
      " #   Column                   Non-Null Count  Dtype  \n",
      "---  ------                   --------------  -----  \n",
      " 0   Age                      80 non-null     int64  \n",
      " 1   Gender                   80 non-null     object \n",
      " 2   Current Weight (lbs)     80 non-null     float64\n",
      " 3   Daily Calories Consumed  80 non-null     float64\n",
      " 4   Weight Change (lbs)      80 non-null     float64\n",
      " 5   Duration (weeks)         80 non-null     int64  \n",
      " 6   Physical Activity Level  80 non-null     object \n",
      " 7   Sleep Quality            80 non-null     object \n",
      " 8   Stress Level             80 non-null     int64  \n",
      " 9   Caloric Adjustment       80 non-null     float64\n",
      " 10  Healthy Caloric Intake   80 non-null     float64\n",
      "dtypes: float64(5), int64(3), object(3)\n",
      "memory usage: 7.5+ KB\n"
     ]
    }
   ],
   "source": [
    "train_set.info()"
   ]
  },
  {
   "cell_type": "code",
   "execution_count": 12,
   "id": "665d9735",
   "metadata": {
    "execution": {
     "iopub.execute_input": "2024-12-05T19:53:20.074835Z",
     "iopub.status.busy": "2024-12-05T19:53:20.074462Z",
     "iopub.status.idle": "2024-12-05T19:53:20.085330Z",
     "shell.execute_reply": "2024-12-05T19:53:20.084282Z"
    },
    "papermill": {
     "duration": 0.024524,
     "end_time": "2024-12-05T19:53:20.087303",
     "exception": false,
     "start_time": "2024-12-05T19:53:20.062779",
     "status": "completed"
    },
    "tags": []
   },
   "outputs": [
    {
     "name": "stdout",
     "output_type": "stream",
     "text": [
      "<class 'pandas.core.frame.DataFrame'>\n",
      "Index: 20 entries, 83 to 31\n",
      "Data columns (total 11 columns):\n",
      " #   Column                   Non-Null Count  Dtype  \n",
      "---  ------                   --------------  -----  \n",
      " 0   Age                      20 non-null     int64  \n",
      " 1   Gender                   20 non-null     object \n",
      " 2   Current Weight (lbs)     20 non-null     float64\n",
      " 3   Daily Calories Consumed  20 non-null     float64\n",
      " 4   Weight Change (lbs)      20 non-null     float64\n",
      " 5   Duration (weeks)         20 non-null     int64  \n",
      " 6   Physical Activity Level  20 non-null     object \n",
      " 7   Sleep Quality            20 non-null     object \n",
      " 8   Stress Level             20 non-null     int64  \n",
      " 9   Caloric Adjustment       20 non-null     float64\n",
      " 10  Healthy Caloric Intake   20 non-null     float64\n",
      "dtypes: float64(5), int64(3), object(3)\n",
      "memory usage: 1.9+ KB\n"
     ]
    }
   ],
   "source": [
    "test_set.info()"
   ]
  },
  {
   "cell_type": "markdown",
   "id": "b3347da8",
   "metadata": {
    "papermill": {
     "duration": 0.009604,
     "end_time": "2024-12-05T19:53:20.106777",
     "exception": false,
     "start_time": "2024-12-05T19:53:20.097173",
     "status": "completed"
    },
    "tags": []
   },
   "source": [
    "## Encode Categorical Features"
   ]
  },
  {
   "cell_type": "code",
   "execution_count": 13,
   "id": "27f667b6",
   "metadata": {
    "execution": {
     "iopub.execute_input": "2024-12-05T19:53:20.128210Z",
     "iopub.status.busy": "2024-12-05T19:53:20.127750Z",
     "iopub.status.idle": "2024-12-05T19:53:20.135022Z",
     "shell.execute_reply": "2024-12-05T19:53:20.133959Z"
    },
    "papermill": {
     "duration": 0.020369,
     "end_time": "2024-12-05T19:53:20.136946",
     "exception": false,
     "start_time": "2024-12-05T19:53:20.116577",
     "status": "completed"
    },
    "tags": []
   },
   "outputs": [],
   "source": [
    "from sklearn.base import BaseEstimator, TransformerMixin\n",
    "\n",
    "class FeatureEncoder(BaseEstimator, TransformerMixin):\n",
    "\n",
    "    def fit(self, X, y=None):\n",
    "        return self\n",
    "\n",
    "    def transform(self, X):\n",
    "        X_encoded = X.copy()\n",
    "\n",
    "        cat_cols = X.select_dtypes(include=['object'])\n",
    "\n",
    "        for col in cat_cols:\n",
    "\n",
    "            # Perform one-hot encoding\n",
    "            X_encoded = pd.concat([X_encoded, pd.get_dummies(X_encoded[col], prefix=col)], axis=1)\n",
    "\n",
    "            # Drop original categorical columns from DataFrame\n",
    "            X_encoded.drop(col, axis=1, inplace=True)\n",
    "\n",
    "        return X_encoded"
   ]
  },
  {
   "cell_type": "markdown",
   "id": "3ed5201d",
   "metadata": {
    "papermill": {
     "duration": 0.010215,
     "end_time": "2024-12-05T19:53:20.157182",
     "exception": false,
     "start_time": "2024-12-05T19:53:20.146967",
     "status": "completed"
    },
    "tags": []
   },
   "source": [
    "## Scale Numerical Features"
   ]
  },
  {
   "cell_type": "code",
   "execution_count": 14,
   "id": "fbd59903",
   "metadata": {
    "execution": {
     "iopub.execute_input": "2024-12-05T19:53:20.179406Z",
     "iopub.status.busy": "2024-12-05T19:53:20.179021Z",
     "iopub.status.idle": "2024-12-05T19:53:20.186873Z",
     "shell.execute_reply": "2024-12-05T19:53:20.185677Z"
    },
    "papermill": {
     "duration": 0.021468,
     "end_time": "2024-12-05T19:53:20.189215",
     "exception": false,
     "start_time": "2024-12-05T19:53:20.167747",
     "status": "completed"
    },
    "tags": []
   },
   "outputs": [],
   "source": [
    "from sklearn.preprocessing import StandardScaler\n",
    "\n",
    "class FeatureScaler(BaseEstimator, TransformerMixin):\n",
    "    def __init__(self):\n",
    "        self.scaler = None\n",
    "        self.numerical_cols = None\n",
    "\n",
    "    def fit(self, X, y=None):\n",
    "        self.numerical_cols = X.select_dtypes(include=['int', 'float']).drop([TARGET], axis=1).columns\n",
    "\n",
    "        self.scaler = StandardScaler().fit(X[self.numerical_cols])\n",
    "        return self\n",
    "\n",
    "    def transform(self, X):\n",
    "        X_scaled = X.copy()\n",
    "        X_scaled[self.numerical_cols] = self.scaler.transform(X[self.numerical_cols])\n",
    "\n",
    "        return X_scaled\n",
    "\n",
    "    def inverse_transform(self, X):\n",
    "        X_inverse = X.copy()\n",
    "        X_inverse[self.numerical_cols] = self.scaler.inverse_transform(X[self.numerical_cols])\n",
    "\n",
    "        return X_inverse"
   ]
  },
  {
   "cell_type": "markdown",
   "id": "73b2c1c6",
   "metadata": {
    "papermill": {
     "duration": 0.009847,
     "end_time": "2024-12-05T19:53:20.209212",
     "exception": false,
     "start_time": "2024-12-05T19:53:20.199365",
     "status": "completed"
    },
    "tags": []
   },
   "source": [
    "## Compile Preprocessing"
   ]
  },
  {
   "cell_type": "code",
   "execution_count": 15,
   "id": "511bc595",
   "metadata": {
    "execution": {
     "iopub.execute_input": "2024-12-05T19:53:20.231886Z",
     "iopub.status.busy": "2024-12-05T19:53:20.231339Z",
     "iopub.status.idle": "2024-12-05T19:53:20.239540Z",
     "shell.execute_reply": "2024-12-05T19:53:20.238350Z"
    },
    "papermill": {
     "duration": 0.022884,
     "end_time": "2024-12-05T19:53:20.242167",
     "exception": false,
     "start_time": "2024-12-05T19:53:20.219283",
     "status": "completed"
    },
    "tags": []
   },
   "outputs": [],
   "source": [
    "from sklearn.pipeline import Pipeline\n",
    "\n",
    "pipeline_train = Pipeline([\n",
    "    (\"scaler\", FeatureScaler()),\n",
    "    (\"encoder\", FeatureEncoder())\n",
    "])"
   ]
  },
  {
   "cell_type": "code",
   "execution_count": 16,
   "id": "3ef4bdc6",
   "metadata": {
    "execution": {
     "iopub.execute_input": "2024-12-05T19:53:20.265670Z",
     "iopub.status.busy": "2024-12-05T19:53:20.265251Z",
     "iopub.status.idle": "2024-12-05T19:53:20.293641Z",
     "shell.execute_reply": "2024-12-05T19:53:20.292525Z"
    },
    "papermill": {
     "duration": 0.04306,
     "end_time": "2024-12-05T19:53:20.296095",
     "exception": false,
     "start_time": "2024-12-05T19:53:20.253035",
     "status": "completed"
    },
    "tags": []
   },
   "outputs": [],
   "source": [
    "train_set = pipeline_train.fit_transform(train_set)\n",
    "test_set = pipeline_train.transform(test_set)"
   ]
  },
  {
   "cell_type": "code",
   "execution_count": 17,
   "id": "ac94c819",
   "metadata": {
    "execution": {
     "iopub.execute_input": "2024-12-05T19:53:20.318409Z",
     "iopub.status.busy": "2024-12-05T19:53:20.318020Z",
     "iopub.status.idle": "2024-12-05T19:53:20.324276Z",
     "shell.execute_reply": "2024-12-05T19:53:20.323207Z"
    },
    "papermill": {
     "duration": 0.020049,
     "end_time": "2024-12-05T19:53:20.326416",
     "exception": false,
     "start_time": "2024-12-05T19:53:20.306367",
     "status": "completed"
    },
    "tags": []
   },
   "outputs": [],
   "source": [
    "def match_columns(train, test):\n",
    "    # Get list of columns in training set\n",
    "    train_cols = train.columns.tolist()\n",
    "\n",
    "    # Get list of columns in test set\n",
    "    test_cols = test.columns.tolist()\n",
    "\n",
    "    # Remove any columns in test set that aren't in training set\n",
    "    for col in test_cols:\n",
    "        if col not in train_cols:\n",
    "            test = test.drop(col, axis=1)\n",
    "\n",
    "    # Add any missing columns to test set and fill with 0\n",
    "    for col in train_cols:\n",
    "        if col not in test_cols:\n",
    "            test[col] = 0\n",
    "\n",
    "    # Reorder columns in test set to match training set\n",
    "    test = test[train_cols]\n",
    "\n",
    "    # Return modified test set\n",
    "    return test"
   ]
  },
  {
   "cell_type": "code",
   "execution_count": 18,
   "id": "002070e1",
   "metadata": {
    "execution": {
     "iopub.execute_input": "2024-12-05T19:53:20.348734Z",
     "iopub.status.busy": "2024-12-05T19:53:20.348344Z",
     "iopub.status.idle": "2024-12-05T19:53:20.354997Z",
     "shell.execute_reply": "2024-12-05T19:53:20.353739Z"
    },
    "papermill": {
     "duration": 0.020789,
     "end_time": "2024-12-05T19:53:20.357390",
     "exception": false,
     "start_time": "2024-12-05T19:53:20.336601",
     "status": "completed"
    },
    "tags": []
   },
   "outputs": [],
   "source": [
    "test_set = match_columns(train_set, test_set)"
   ]
  },
  {
   "cell_type": "code",
   "execution_count": 19,
   "id": "db19f26a",
   "metadata": {
    "execution": {
     "iopub.execute_input": "2024-12-05T19:53:20.380867Z",
     "iopub.status.busy": "2024-12-05T19:53:20.380411Z",
     "iopub.status.idle": "2024-12-05T19:53:20.400532Z",
     "shell.execute_reply": "2024-12-05T19:53:20.399400Z"
    },
    "papermill": {
     "duration": 0.034684,
     "end_time": "2024-12-05T19:53:20.402789",
     "exception": false,
     "start_time": "2024-12-05T19:53:20.368105",
     "status": "completed"
    },
    "tags": []
   },
   "outputs": [
    {
     "data": {
      "text/html": [
       "<div>\n",
       "<style scoped>\n",
       "    .dataframe tbody tr th:only-of-type {\n",
       "        vertical-align: middle;\n",
       "    }\n",
       "\n",
       "    .dataframe tbody tr th {\n",
       "        vertical-align: top;\n",
       "    }\n",
       "\n",
       "    .dataframe thead th {\n",
       "        text-align: right;\n",
       "    }\n",
       "</style>\n",
       "<table border=\"1\" class=\"dataframe\">\n",
       "  <thead>\n",
       "    <tr style=\"text-align: right;\">\n",
       "      <th></th>\n",
       "      <th>Age</th>\n",
       "      <th>Current Weight (lbs)</th>\n",
       "      <th>Daily Calories Consumed</th>\n",
       "      <th>Weight Change (lbs)</th>\n",
       "      <th>Duration (weeks)</th>\n",
       "      <th>Stress Level</th>\n",
       "      <th>Caloric Adjustment</th>\n",
       "      <th>Healthy Caloric Intake</th>\n",
       "      <th>Gender_F</th>\n",
       "      <th>Gender_M</th>\n",
       "      <th>Physical Activity Level_Lightly Active</th>\n",
       "      <th>Physical Activity Level_Moderately Active</th>\n",
       "      <th>Physical Activity Level_Sedentary</th>\n",
       "      <th>Physical Activity Level_Very Active</th>\n",
       "      <th>Sleep Quality_Excellent</th>\n",
       "      <th>Sleep Quality_Fair</th>\n",
       "      <th>Sleep Quality_Good</th>\n",
       "      <th>Sleep Quality_Poor</th>\n",
       "    </tr>\n",
       "  </thead>\n",
       "  <tbody>\n",
       "    <tr>\n",
       "      <th>55</th>\n",
       "      <td>-1.232972</td>\n",
       "      <td>0.571342</td>\n",
       "      <td>-0.346257</td>\n",
       "      <td>0.646814</td>\n",
       "      <td>0.878276</td>\n",
       "      <td>-0.747946</td>\n",
       "      <td>0.706859</td>\n",
       "      <td>3204.400000</td>\n",
       "      <td>True</td>\n",
       "      <td>False</td>\n",
       "      <td>False</td>\n",
       "      <td>False</td>\n",
       "      <td>True</td>\n",
       "      <td>False</td>\n",
       "      <td>False</td>\n",
       "      <td>False</td>\n",
       "      <td>True</td>\n",
       "      <td>False</td>\n",
       "    </tr>\n",
       "    <tr>\n",
       "      <th>88</th>\n",
       "      <td>-0.815015</td>\n",
       "      <td>1.426018</td>\n",
       "      <td>0.995206</td>\n",
       "      <td>-0.157369</td>\n",
       "      <td>0.878276</td>\n",
       "      <td>-0.747946</td>\n",
       "      <td>0.028890</td>\n",
       "      <td>3969.495543</td>\n",
       "      <td>False</td>\n",
       "      <td>True</td>\n",
       "      <td>True</td>\n",
       "      <td>False</td>\n",
       "      <td>False</td>\n",
       "      <td>False</td>\n",
       "      <td>False</td>\n",
       "      <td>False</td>\n",
       "      <td>False</td>\n",
       "      <td>True</td>\n",
       "    </tr>\n",
       "    <tr>\n",
       "      <th>26</th>\n",
       "      <td>0.522446</td>\n",
       "      <td>0.813500</td>\n",
       "      <td>0.995206</td>\n",
       "      <td>0.846152</td>\n",
       "      <td>1.456564</td>\n",
       "      <td>-1.545755</td>\n",
       "      <td>0.811892</td>\n",
       "      <td>4485.505000</td>\n",
       "      <td>False</td>\n",
       "      <td>True</td>\n",
       "      <td>False</td>\n",
       "      <td>True</td>\n",
       "      <td>False</td>\n",
       "      <td>False</td>\n",
       "      <td>False</td>\n",
       "      <td>True</td>\n",
       "      <td>False</td>\n",
       "      <td>False</td>\n",
       "    </tr>\n",
       "    <tr>\n",
       "      <th>42</th>\n",
       "      <td>0.438854</td>\n",
       "      <td>0.492997</td>\n",
       "      <td>0.995206</td>\n",
       "      <td>0.746483</td>\n",
       "      <td>0.010843</td>\n",
       "      <td>-1.146850</td>\n",
       "      <td>0.916925</td>\n",
       "      <td>4878.545000</td>\n",
       "      <td>False</td>\n",
       "      <td>True</td>\n",
       "      <td>False</td>\n",
       "      <td>False</td>\n",
       "      <td>False</td>\n",
       "      <td>True</td>\n",
       "      <td>False</td>\n",
       "      <td>False</td>\n",
       "      <td>True</td>\n",
       "      <td>False</td>\n",
       "    </tr>\n",
       "    <tr>\n",
       "      <th>69</th>\n",
       "      <td>0.188080</td>\n",
       "      <td>-1.130888</td>\n",
       "      <td>0.651558</td>\n",
       "      <td>-0.880994</td>\n",
       "      <td>0.589131</td>\n",
       "      <td>-1.545755</td>\n",
       "      <td>-0.700938</td>\n",
       "      <td>2920.021605</td>\n",
       "      <td>True</td>\n",
       "      <td>False</td>\n",
       "      <td>False</td>\n",
       "      <td>False</td>\n",
       "      <td>False</td>\n",
       "      <td>True</td>\n",
       "      <td>False</td>\n",
       "      <td>False</td>\n",
       "      <td>False</td>\n",
       "      <td>True</td>\n",
       "    </tr>\n",
       "  </tbody>\n",
       "</table>\n",
       "</div>"
      ],
      "text/plain": [
       "         Age  Current Weight (lbs)  Daily Calories Consumed  \\\n",
       "55 -1.232972              0.571342                -0.346257   \n",
       "88 -0.815015              1.426018                 0.995206   \n",
       "26  0.522446              0.813500                 0.995206   \n",
       "42  0.438854              0.492997                 0.995206   \n",
       "69  0.188080             -1.130888                 0.651558   \n",
       "\n",
       "    Weight Change (lbs)  Duration (weeks)  Stress Level  Caloric Adjustment  \\\n",
       "55             0.646814          0.878276     -0.747946            0.706859   \n",
       "88            -0.157369          0.878276     -0.747946            0.028890   \n",
       "26             0.846152          1.456564     -1.545755            0.811892   \n",
       "42             0.746483          0.010843     -1.146850            0.916925   \n",
       "69            -0.880994          0.589131     -1.545755           -0.700938   \n",
       "\n",
       "    Healthy Caloric Intake  Gender_F  Gender_M  \\\n",
       "55             3204.400000      True     False   \n",
       "88             3969.495543     False      True   \n",
       "26             4485.505000     False      True   \n",
       "42             4878.545000     False      True   \n",
       "69             2920.021605      True     False   \n",
       "\n",
       "    Physical Activity Level_Lightly Active  \\\n",
       "55                                   False   \n",
       "88                                    True   \n",
       "26                                   False   \n",
       "42                                   False   \n",
       "69                                   False   \n",
       "\n",
       "    Physical Activity Level_Moderately Active  \\\n",
       "55                                      False   \n",
       "88                                      False   \n",
       "26                                       True   \n",
       "42                                      False   \n",
       "69                                      False   \n",
       "\n",
       "    Physical Activity Level_Sedentary  Physical Activity Level_Very Active  \\\n",
       "55                               True                                False   \n",
       "88                              False                                False   \n",
       "26                              False                                False   \n",
       "42                              False                                 True   \n",
       "69                              False                                 True   \n",
       "\n",
       "    Sleep Quality_Excellent  Sleep Quality_Fair  Sleep Quality_Good  \\\n",
       "55                    False               False                True   \n",
       "88                    False               False               False   \n",
       "26                    False                True               False   \n",
       "42                    False               False                True   \n",
       "69                    False               False               False   \n",
       "\n",
       "    Sleep Quality_Poor  \n",
       "55               False  \n",
       "88                True  \n",
       "26               False  \n",
       "42               False  \n",
       "69                True  "
      ]
     },
     "execution_count": 19,
     "metadata": {},
     "output_type": "execute_result"
    }
   ],
   "source": [
    "train_set.head()"
   ]
  },
  {
   "cell_type": "code",
   "execution_count": 20,
   "id": "e6dd2e2e",
   "metadata": {
    "execution": {
     "iopub.execute_input": "2024-12-05T19:53:20.425357Z",
     "iopub.status.busy": "2024-12-05T19:53:20.424950Z",
     "iopub.status.idle": "2024-12-05T19:53:20.444785Z",
     "shell.execute_reply": "2024-12-05T19:53:20.443399Z"
    },
    "papermill": {
     "duration": 0.03347,
     "end_time": "2024-12-05T19:53:20.447049",
     "exception": false,
     "start_time": "2024-12-05T19:53:20.413579",
     "status": "completed"
    },
    "tags": []
   },
   "outputs": [
    {
     "data": {
      "text/html": [
       "<div>\n",
       "<style scoped>\n",
       "    .dataframe tbody tr th:only-of-type {\n",
       "        vertical-align: middle;\n",
       "    }\n",
       "\n",
       "    .dataframe tbody tr th {\n",
       "        vertical-align: top;\n",
       "    }\n",
       "\n",
       "    .dataframe thead th {\n",
       "        text-align: right;\n",
       "    }\n",
       "</style>\n",
       "<table border=\"1\" class=\"dataframe\">\n",
       "  <thead>\n",
       "    <tr style=\"text-align: right;\">\n",
       "      <th></th>\n",
       "      <th>Age</th>\n",
       "      <th>Current Weight (lbs)</th>\n",
       "      <th>Daily Calories Consumed</th>\n",
       "      <th>Weight Change (lbs)</th>\n",
       "      <th>Duration (weeks)</th>\n",
       "      <th>Stress Level</th>\n",
       "      <th>Caloric Adjustment</th>\n",
       "      <th>Healthy Caloric Intake</th>\n",
       "      <th>Gender_F</th>\n",
       "      <th>Gender_M</th>\n",
       "      <th>Physical Activity Level_Lightly Active</th>\n",
       "      <th>Physical Activity Level_Moderately Active</th>\n",
       "      <th>Physical Activity Level_Sedentary</th>\n",
       "      <th>Physical Activity Level_Very Active</th>\n",
       "      <th>Sleep Quality_Excellent</th>\n",
       "      <th>Sleep Quality_Fair</th>\n",
       "      <th>Sleep Quality_Good</th>\n",
       "      <th>Sleep Quality_Poor</th>\n",
       "    </tr>\n",
       "  </thead>\n",
       "  <tbody>\n",
       "    <tr>\n",
       "      <th>83</th>\n",
       "      <td>-0.982198</td>\n",
       "      <td>-1.561787</td>\n",
       "      <td>-1.703286</td>\n",
       "      <td>0.547145</td>\n",
       "      <td>1.456564</td>\n",
       "      <td>0.448768</td>\n",
       "      <td>0.601826</td>\n",
       "      <td>2713.160000</td>\n",
       "      <td>False</td>\n",
       "      <td>True</td>\n",
       "      <td>False</td>\n",
       "      <td>False</td>\n",
       "      <td>True</td>\n",
       "      <td>False</td>\n",
       "      <td>False</td>\n",
       "      <td>False</td>\n",
       "      <td>True</td>\n",
       "      <td>False</td>\n",
       "    </tr>\n",
       "    <tr>\n",
       "      <th>53</th>\n",
       "      <td>-1.400155</td>\n",
       "      <td>0.439580</td>\n",
       "      <td>0.995206</td>\n",
       "      <td>0.256134</td>\n",
       "      <td>-0.567446</td>\n",
       "      <td>1.645481</td>\n",
       "      <td>0.258196</td>\n",
       "      <td>4237.422362</td>\n",
       "      <td>False</td>\n",
       "      <td>True</td>\n",
       "      <td>False</td>\n",
       "      <td>True</td>\n",
       "      <td>False</td>\n",
       "      <td>False</td>\n",
       "      <td>False</td>\n",
       "      <td>True</td>\n",
       "      <td>False</td>\n",
       "      <td>False</td>\n",
       "    </tr>\n",
       "    <tr>\n",
       "      <th>70</th>\n",
       "      <td>1.609133</td>\n",
       "      <td>-2.455636</td>\n",
       "      <td>-2.934390</td>\n",
       "      <td>0.191035</td>\n",
       "      <td>-1.724023</td>\n",
       "      <td>1.645481</td>\n",
       "      <td>-1.245014</td>\n",
       "      <td>1324.763935</td>\n",
       "      <td>True</td>\n",
       "      <td>False</td>\n",
       "      <td>True</td>\n",
       "      <td>False</td>\n",
       "      <td>False</td>\n",
       "      <td>False</td>\n",
       "      <td>False</td>\n",
       "      <td>False</td>\n",
       "      <td>True</td>\n",
       "      <td>False</td>\n",
       "    </tr>\n",
       "    <tr>\n",
       "      <th>45</th>\n",
       "      <td>0.606037</td>\n",
       "      <td>1.027169</td>\n",
       "      <td>0.995206</td>\n",
       "      <td>0.995655</td>\n",
       "      <td>1.456564</td>\n",
       "      <td>0.847672</td>\n",
       "      <td>0.916925</td>\n",
       "      <td>4236.820000</td>\n",
       "      <td>True</td>\n",
       "      <td>False</td>\n",
       "      <td>False</td>\n",
       "      <td>True</td>\n",
       "      <td>False</td>\n",
       "      <td>False</td>\n",
       "      <td>False</td>\n",
       "      <td>False</td>\n",
       "      <td>True</td>\n",
       "      <td>False</td>\n",
       "    </tr>\n",
       "    <tr>\n",
       "      <th>44</th>\n",
       "      <td>-0.062693</td>\n",
       "      <td>0.553536</td>\n",
       "      <td>-0.189600</td>\n",
       "      <td>-0.223797</td>\n",
       "      <td>-1.145734</td>\n",
       "      <td>1.645481</td>\n",
       "      <td>-1.249560</td>\n",
       "      <td>2478.622079</td>\n",
       "      <td>False</td>\n",
       "      <td>True</td>\n",
       "      <td>False</td>\n",
       "      <td>False</td>\n",
       "      <td>True</td>\n",
       "      <td>False</td>\n",
       "      <td>False</td>\n",
       "      <td>True</td>\n",
       "      <td>False</td>\n",
       "      <td>False</td>\n",
       "    </tr>\n",
       "  </tbody>\n",
       "</table>\n",
       "</div>"
      ],
      "text/plain": [
       "         Age  Current Weight (lbs)  Daily Calories Consumed  \\\n",
       "83 -0.982198             -1.561787                -1.703286   \n",
       "53 -1.400155              0.439580                 0.995206   \n",
       "70  1.609133             -2.455636                -2.934390   \n",
       "45  0.606037              1.027169                 0.995206   \n",
       "44 -0.062693              0.553536                -0.189600   \n",
       "\n",
       "    Weight Change (lbs)  Duration (weeks)  Stress Level  Caloric Adjustment  \\\n",
       "83             0.547145          1.456564      0.448768            0.601826   \n",
       "53             0.256134         -0.567446      1.645481            0.258196   \n",
       "70             0.191035         -1.724023      1.645481           -1.245014   \n",
       "45             0.995655          1.456564      0.847672            0.916925   \n",
       "44            -0.223797         -1.145734      1.645481           -1.249560   \n",
       "\n",
       "    Healthy Caloric Intake  Gender_F  Gender_M  \\\n",
       "83             2713.160000     False      True   \n",
       "53             4237.422362     False      True   \n",
       "70             1324.763935      True     False   \n",
       "45             4236.820000      True     False   \n",
       "44             2478.622079     False      True   \n",
       "\n",
       "    Physical Activity Level_Lightly Active  \\\n",
       "83                                   False   \n",
       "53                                   False   \n",
       "70                                    True   \n",
       "45                                   False   \n",
       "44                                   False   \n",
       "\n",
       "    Physical Activity Level_Moderately Active  \\\n",
       "83                                      False   \n",
       "53                                       True   \n",
       "70                                      False   \n",
       "45                                       True   \n",
       "44                                      False   \n",
       "\n",
       "    Physical Activity Level_Sedentary  Physical Activity Level_Very Active  \\\n",
       "83                               True                                False   \n",
       "53                              False                                False   \n",
       "70                              False                                False   \n",
       "45                              False                                False   \n",
       "44                               True                                False   \n",
       "\n",
       "    Sleep Quality_Excellent  Sleep Quality_Fair  Sleep Quality_Good  \\\n",
       "83                    False               False                True   \n",
       "53                    False                True               False   \n",
       "70                    False               False                True   \n",
       "45                    False               False                True   \n",
       "44                    False                True               False   \n",
       "\n",
       "    Sleep Quality_Poor  \n",
       "83               False  \n",
       "53               False  \n",
       "70               False  \n",
       "45               False  \n",
       "44               False  "
      ]
     },
     "execution_count": 20,
     "metadata": {},
     "output_type": "execute_result"
    }
   ],
   "source": [
    "test_set.head()"
   ]
  },
  {
   "cell_type": "code",
   "execution_count": 21,
   "id": "4fd7174c",
   "metadata": {
    "execution": {
     "iopub.execute_input": "2024-12-05T19:53:20.470537Z",
     "iopub.status.busy": "2024-12-05T19:53:20.470111Z",
     "iopub.status.idle": "2024-12-05T19:53:20.477363Z",
     "shell.execute_reply": "2024-12-05T19:53:20.476313Z"
    },
    "papermill": {
     "duration": 0.021967,
     "end_time": "2024-12-05T19:53:20.479667",
     "exception": false,
     "start_time": "2024-12-05T19:53:20.457700",
     "status": "completed"
    },
    "tags": []
   },
   "outputs": [
    {
     "data": {
      "text/plain": [
       "Index(['Age', 'Current Weight (lbs)', 'Daily Calories Consumed',\n",
       "       'Weight Change (lbs)', 'Duration (weeks)', 'Stress Level',\n",
       "       'Caloric Adjustment', 'Healthy Caloric Intake', 'Gender_F', 'Gender_M',\n",
       "       'Physical Activity Level_Lightly Active',\n",
       "       'Physical Activity Level_Moderately Active',\n",
       "       'Physical Activity Level_Sedentary',\n",
       "       'Physical Activity Level_Very Active', 'Sleep Quality_Excellent',\n",
       "       'Sleep Quality_Fair', 'Sleep Quality_Good', 'Sleep Quality_Poor'],\n",
       "      dtype='object')"
      ]
     },
     "execution_count": 21,
     "metadata": {},
     "output_type": "execute_result"
    }
   ],
   "source": [
    "test_set.columns"
   ]
  },
  {
   "cell_type": "markdown",
   "id": "eacf203c",
   "metadata": {
    "papermill": {
     "duration": 0.011025,
     "end_time": "2024-12-05T19:53:20.503159",
     "exception": false,
     "start_time": "2024-12-05T19:53:20.492134",
     "status": "completed"
    },
    "tags": []
   },
   "source": [
    "## Modelling"
   ]
  },
  {
   "cell_type": "code",
   "execution_count": 22,
   "id": "d5930c32",
   "metadata": {
    "execution": {
     "iopub.execute_input": "2024-12-05T19:53:20.526668Z",
     "iopub.status.busy": "2024-12-05T19:53:20.525728Z",
     "iopub.status.idle": "2024-12-05T19:53:20.533447Z",
     "shell.execute_reply": "2024-12-05T19:53:20.532269Z"
    },
    "papermill": {
     "duration": 0.022086,
     "end_time": "2024-12-05T19:53:20.535829",
     "exception": false,
     "start_time": "2024-12-05T19:53:20.513743",
     "status": "completed"
    },
    "tags": []
   },
   "outputs": [],
   "source": [
    "# Define the Neural Network\n",
    "def create_nn_model(input_dim):\n",
    "    model = Sequential([\n",
    "        Input(shape=(input_dim,)),\n",
    "        Dense(128, activation='relu'),\n",
    "        Dense(64, activation='relu'),\n",
    "        Dense(1, activation='linear')\n",
    "    ])\n",
    "    return model\n",
    "\n",
    "# Compile and Train the Model\n",
    "def train_nn_model(X_train, y_train, X_val, y_val, epochs=EPOCHS, batch_size=BATCH_SIZE, verbose=VERBOSE_TRAINING):\n",
    "    model = create_nn_model(X_train.shape[1])\n",
    "    model.compile(optimizer=Adam(learning_rate=0.001),\n",
    "                  loss=MeanSquaredError(),\n",
    "                  metrics=['mae'])\n",
    "\n",
    "    # Train the model\n",
    "    history = model.fit(\n",
    "        X_train, y_train,\n",
    "        validation_data=(X_val, y_val),\n",
    "        epochs=epochs,\n",
    "        batch_size=batch_size,\n",
    "        verbose=verbose\n",
    "    )\n",
    "    return model, history"
   ]
  },
  {
   "cell_type": "markdown",
   "id": "57ff4d36",
   "metadata": {
    "papermill": {
     "duration": 0.011345,
     "end_time": "2024-12-05T19:53:20.559171",
     "exception": false,
     "start_time": "2024-12-05T19:53:20.547826",
     "status": "completed"
    },
    "tags": []
   },
   "source": [
    "## Training and Evaluation"
   ]
  },
  {
   "cell_type": "code",
   "execution_count": 23,
   "id": "32b7cb34",
   "metadata": {
    "execution": {
     "iopub.execute_input": "2024-12-05T19:53:20.583752Z",
     "iopub.status.busy": "2024-12-05T19:53:20.583347Z",
     "iopub.status.idle": "2024-12-05T19:53:20.591466Z",
     "shell.execute_reply": "2024-12-05T19:53:20.590386Z"
    },
    "papermill": {
     "duration": 0.023137,
     "end_time": "2024-12-05T19:53:20.594040",
     "exception": false,
     "start_time": "2024-12-05T19:53:20.570903",
     "status": "completed"
    },
    "tags": []
   },
   "outputs": [],
   "source": [
    "# Split to X and y\n",
    "X_train = train_set.drop([TARGET], axis=1).values\n",
    "y_train = train_set[TARGET]\n",
    "\n",
    "X_test = test_set.drop([TARGET], axis=1).values\n",
    "y_test = test_set[TARGET]"
   ]
  },
  {
   "cell_type": "code",
   "execution_count": 24,
   "id": "ae0b761e",
   "metadata": {
    "execution": {
     "iopub.execute_input": "2024-12-05T19:53:20.617449Z",
     "iopub.status.busy": "2024-12-05T19:53:20.617064Z",
     "iopub.status.idle": "2024-12-05T19:53:20.624015Z",
     "shell.execute_reply": "2024-12-05T19:53:20.622535Z"
    },
    "papermill": {
     "duration": 0.021684,
     "end_time": "2024-12-05T19:53:20.626412",
     "exception": false,
     "start_time": "2024-12-05T19:53:20.604728",
     "status": "completed"
    },
    "tags": []
   },
   "outputs": [],
   "source": [
    "X_train = np.array(X_train, dtype=np.float32)\n",
    "X_test = np.array(X_test, dtype=np.float32)\n",
    "\n",
    "y_train = np.array(y_train, dtype=np.float32)\n",
    "y_test = np.array(y_test, dtype=np.float32)"
   ]
  },
  {
   "cell_type": "code",
   "execution_count": 25,
   "id": "55cd6e4f",
   "metadata": {
    "execution": {
     "iopub.execute_input": "2024-12-05T19:53:20.651454Z",
     "iopub.status.busy": "2024-12-05T19:53:20.650729Z",
     "iopub.status.idle": "2024-12-05T19:53:54.661482Z",
     "shell.execute_reply": "2024-12-05T19:53:54.660268Z"
    },
    "papermill": {
     "duration": 34.026549,
     "end_time": "2024-12-05T19:53:54.664333",
     "exception": false,
     "start_time": "2024-12-05T19:53:20.637784",
     "status": "completed"
    },
    "tags": []
   },
   "outputs": [],
   "source": [
    "model, history = train_nn_model(X_train, y_train, X_test, y_test, epochs=EPOCHS, batch_size=BATCH_SIZE, verbose=VERBOSE_TRAINING)"
   ]
  },
  {
   "cell_type": "code",
   "execution_count": 26,
   "id": "45122f58",
   "metadata": {
    "execution": {
     "iopub.execute_input": "2024-12-05T19:53:54.687880Z",
     "iopub.status.busy": "2024-12-05T19:53:54.687432Z",
     "iopub.status.idle": "2024-12-05T19:53:54.694068Z",
     "shell.execute_reply": "2024-12-05T19:53:54.692637Z"
    },
    "papermill": {
     "duration": 0.020904,
     "end_time": "2024-12-05T19:53:54.696289",
     "exception": false,
     "start_time": "2024-12-05T19:53:54.675385",
     "status": "completed"
    },
    "tags": []
   },
   "outputs": [],
   "source": [
    "def plot_loss(history):\n",
    "    plt.figure(figsize=(10, 6))\n",
    "    plt.plot(history.history['loss'], label='Training Loss')\n",
    "    plt.plot(history.history['val_loss'], label='Validation Loss')\n",
    "    plt.xlabel('Epochs')\n",
    "    plt.ylabel('Loss')\n",
    "    plt.title('Loss Function Over Time')\n",
    "    plt.legend()\n",
    "    plt.grid()\n",
    "    plt.show()"
   ]
  },
  {
   "cell_type": "code",
   "execution_count": 27,
   "id": "020c7202",
   "metadata": {
    "execution": {
     "iopub.execute_input": "2024-12-05T19:53:54.720818Z",
     "iopub.status.busy": "2024-12-05T19:53:54.720395Z",
     "iopub.status.idle": "2024-12-05T19:53:55.077929Z",
     "shell.execute_reply": "2024-12-05T19:53:55.076677Z"
    },
    "papermill": {
     "duration": 0.372672,
     "end_time": "2024-12-05T19:53:55.080537",
     "exception": false,
     "start_time": "2024-12-05T19:53:54.707865",
     "status": "completed"
    },
    "tags": []
   },
   "outputs": [
    {
     "data": {
      "image/png": "[encoded data removed]",
      "text/plain": [
       "<Figure size 1000x600 with 1 Axes>"
      ]
     },
     "metadata": {},
     "output_type": "display_data"
    }
   ],
   "source": [
    "plot_loss(history)"
   ]
  },
  {
   "cell_type": "code",
   "execution_count": 28,
   "id": "c851968d",
   "metadata": {
    "execution": {
     "iopub.execute_input": "2024-12-05T19:53:55.106722Z",
     "iopub.status.busy": "2024-12-05T19:53:55.106289Z",
     "iopub.status.idle": "2024-12-05T19:53:55.331006Z",
     "shell.execute_reply": "2024-12-05T19:53:55.329871Z"
    },
    "papermill": {
     "duration": 0.2406,
     "end_time": "2024-12-05T19:53:55.333968",
     "exception": false,
     "start_time": "2024-12-05T19:53:55.093368",
     "status": "completed"
    },
    "tags": []
   },
   "outputs": [
    {
     "name": "stdout",
     "output_type": "stream",
     "text": [
      "\u001b[1m3/3\u001b[0m \u001b[32m━━━━━━━━━━━━━━━━━━━━\u001b[0m\u001b[37m\u001b[0m \u001b[1m0s\u001b[0m 67ms/step\n",
      "Training RMSE: 43.51699952945831\n"
     ]
    }
   ],
   "source": [
    "from sklearn.metrics import mean_squared_error\n",
    "import math\n",
    "\n",
    "# Training Score\n",
    "y_pred_train = model.predict(X_train)\n",
    "train_rmse = math.sqrt(mean_squared_error(y_train, y_pred_train))\n",
    "print(\"Training RMSE:\", train_rmse)"
   ]
  },
  {
   "cell_type": "code",
   "execution_count": 29,
   "id": "68e7c4b1",
   "metadata": {
    "execution": {
     "iopub.execute_input": "2024-12-05T19:53:55.369262Z",
     "iopub.status.busy": "2024-12-05T19:53:55.368871Z",
     "iopub.status.idle": "2024-12-05T19:53:55.460635Z",
     "shell.execute_reply": "2024-12-05T19:53:55.459451Z"
    },
    "papermill": {
     "duration": 0.107758,
     "end_time": "2024-12-05T19:53:55.462772",
     "exception": false,
     "start_time": "2024-12-05T19:53:55.355014",
     "status": "completed"
    },
    "tags": []
   },
   "outputs": [
    {
     "name": "stdout",
     "output_type": "stream",
     "text": [
      "\u001b[1m1/1\u001b[0m \u001b[32m━━━━━━━━━━━━━━━━━━━━\u001b[0m\u001b[37m\u001b[0m \u001b[1m0s\u001b[0m 85ms/step\n",
      "Testing RMSE: 84.94914896663916\n"
     ]
    }
   ],
   "source": [
    "# Test Score\n",
    "y_pred_test = model.predict(X_test)\n",
    "test_rmse = math.sqrt(mean_squared_error(y_test, y_pred_test))\n",
    "print(\"Testing RMSE:\", test_rmse)"
   ]
  },
  {
   "cell_type": "code",
   "execution_count": 30,
   "id": "2a5a60fd",
   "metadata": {
    "execution": {
     "iopub.execute_input": "2024-12-05T19:53:55.489770Z",
     "iopub.status.busy": "2024-12-05T19:53:55.489415Z",
     "iopub.status.idle": "2024-12-05T19:53:55.496386Z",
     "shell.execute_reply": "2024-12-05T19:53:55.495322Z"
    },
    "papermill": {
     "duration": 0.023565,
     "end_time": "2024-12-05T19:53:55.499158",
     "exception": false,
     "start_time": "2024-12-05T19:53:55.475593",
     "status": "completed"
    },
    "tags": []
   },
   "outputs": [
    {
     "data": {
      "text/plain": [
       "[2713.159912109375,\n",
       " 4237.42236328125,\n",
       " 1324.763916015625,\n",
       " 4236.81982421875,\n",
       " 2478.6220703125,\n",
       " 3317.03759765625,\n",
       " 4067.1298828125,\n",
       " 4969.8154296875,\n",
       " 4394.61767578125,\n",
       " 3822.760009765625,\n",
       " 4790.39013671875,\n",
       " 4280.77490234375,\n",
       " 3143.673828125,\n",
       " 3141.303466796875,\n",
       " 4127.10009765625,\n",
       " 3487.72509765625,\n",
       " 3727.33740234375,\n",
       " 3601.689697265625,\n",
       " 2546.800048828125,\n",
       " 4343.60205078125]"
      ]
     },
     "execution_count": 30,
     "metadata": {},
     "output_type": "execute_result"
    }
   ],
   "source": [
    "y_test.tolist()"
   ]
  },
  {
   "cell_type": "code",
   "execution_count": 31,
   "id": "b47bef3a",
   "metadata": {
    "execution": {
     "iopub.execute_input": "2024-12-05T19:53:55.531042Z",
     "iopub.status.busy": "2024-12-05T19:53:55.530507Z",
     "iopub.status.idle": "2024-12-05T19:53:55.538846Z",
     "shell.execute_reply": "2024-12-05T19:53:55.537665Z"
    },
    "papermill": {
     "duration": 0.024301,
     "end_time": "2024-12-05T19:53:55.540855",
     "exception": false,
     "start_time": "2024-12-05T19:53:55.516554",
     "status": "completed"
    },
    "tags": []
   },
   "outputs": [
    {
     "data": {
      "text/plain": [
       "[[2628.860107421875],\n",
       " [4243.5888671875],\n",
       " [1562.671142578125],\n",
       " [4243.9970703125],\n",
       " [2511.321044921875],\n",
       " [3257.018798828125],\n",
       " [4183.349609375],\n",
       " [4945.6025390625],\n",
       " [4330.9013671875],\n",
       " [3989.044189453125],\n",
       " [4801.427734375],\n",
       " [4329.98583984375],\n",
       " [3156.380126953125],\n",
       " [3110.040771484375],\n",
       " [4168.04541015625],\n",
       " [3480.301513671875],\n",
       " [3740.826904296875],\n",
       " [3629.591064453125],\n",
       " [2396.567626953125],\n",
       " [4310.25341796875]]"
      ]
     },
     "execution_count": 31,
     "metadata": {},
     "output_type": "execute_result"
    }
   ],
   "source": [
    "y_pred_test.tolist()"
   ]
  },
  {
   "cell_type": "markdown",
   "id": "4f8294c5",
   "metadata": {
    "papermill": {
     "duration": 0.012063,
     "end_time": "2024-12-05T19:53:55.565321",
     "exception": false,
     "start_time": "2024-12-05T19:53:55.553258",
     "status": "completed"
    },
    "tags": []
   },
   "source": [
    "## Save the Model"
   ]
  },
  {
   "cell_type": "code",
   "execution_count": 32,
   "id": "d26c7546",
   "metadata": {
    "execution": {
     "iopub.execute_input": "2024-12-05T19:53:55.599275Z",
     "iopub.status.busy": "2024-12-05T19:53:55.598715Z",
     "iopub.status.idle": "2024-12-05T19:53:55.625117Z",
     "shell.execute_reply": "2024-12-05T19:53:55.624105Z"
    },
    "papermill": {
     "duration": 0.049856,
     "end_time": "2024-12-05T19:53:55.627666",
     "exception": false,
     "start_time": "2024-12-05T19:53:55.577810",
     "status": "completed"
    },
    "tags": []
   },
   "outputs": [
    {
     "data": {
      "text/html": [
       "<pre style=\"white-space:pre;overflow-x:auto;line-height:normal;font-family:Menlo,'DejaVu Sans Mono',consolas,'Courier New',monospace\"><span style=\"font-weight: bold\">Model: \"sequential\"</span>\n",
       "</pre>\n"
      ],
      "text/plain": [
       "\u001b[1mModel: \"sequential\"\u001b[0m\n"
      ]
     },
     "metadata": {},
     "output_type": "display_data"
    },
    {
     "data": {
      "text/html": [
       "<pre style=\"white-space:pre;overflow-x:auto;line-height:normal;font-family:Menlo,'DejaVu Sans Mono',consolas,'Courier New',monospace\">┏━━━━━━━━━━━━━━━━━━━━━━━━━━━━━━━━━┳━━━━━━━━━━━━━━━━━━━━━━━━┳━━━━━━━━━━━━━━━┓\n",
       "┃<span style=\"font-weight: bold\"> Layer (type)                    </span>┃<span style=\"font-weight: bold\"> Output Shape           </span>┃<span style=\"font-weight: bold\">       Param # </span>┃\n",
       "┡━━━━━━━━━━━━━━━━━━━━━━━━━━━━━━━━━╇━━━━━━━━━━━━━━━━━━━━━━━━╇━━━━━━━━━━━━━━━┩\n",
       "│ dense (<span style=\"color: #0087ff; text-decoration-color: #0087ff\">Dense</span>)                   │ (<span style=\"color: #00d7ff; text-decoration-color: #00d7ff\">None</span>, <span style=\"color: #00af00; text-decoration-color: #00af00\">128</span>)            │         <span style=\"color: #00af00; text-decoration-color: #00af00\">2,304</span> │\n",
       "├─────────────────────────────────┼────────────────────────┼───────────────┤\n",
       "│ dense_1 (<span style=\"color: #0087ff; text-decoration-color: #0087ff\">Dense</span>)                 │ (<span style=\"color: #00d7ff; text-decoration-color: #00d7ff\">None</span>, <span style=\"color: #00af00; text-decoration-color: #00af00\">64</span>)             │         <span style=\"color: #00af00; text-decoration-color: #00af00\">8,256</span> │\n",
       "├─────────────────────────────────┼────────────────────────┼───────────────┤\n",
       "│ dense_2 (<span style=\"color: #0087ff; text-decoration-color: #0087ff\">Dense</span>)                 │ (<span style=\"color: #00d7ff; text-decoration-color: #00d7ff\">None</span>, <span style=\"color: #00af00; text-decoration-color: #00af00\">1</span>)              │            <span style=\"color: #00af00; text-decoration-color: #00af00\">65</span> │\n",
       "└─────────────────────────────────┴────────────────────────┴───────────────┘\n",
       "</pre>\n"
      ],
      "text/plain": [
       "┏━━━━━━━━━━━━━━━━━━━━━━━━━━━━━━━━━┳━━━━━━━━━━━━━━━━━━━━━━━━┳━━━━━━━━━━━━━━━┓\n",
       "┃\u001b[1m \u001b[0m\u001b[1mLayer (type)                   \u001b[0m\u001b[1m \u001b[0m┃\u001b[1m \u001b[0m\u001b[1mOutput Shape          \u001b[0m\u001b[1m \u001b[0m┃\u001b[1m \u001b[0m\u001b[1m      Param #\u001b[0m\u001b[1m \u001b[0m┃\n",
       "┡━━━━━━━━━━━━━━━━━━━━━━━━━━━━━━━━━╇━━━━━━━━━━━━━━━━━━━━━━━━╇━━━━━━━━━━━━━━━┩\n",
       "│ dense (\u001b[38;5;33mDense\u001b[0m)                   │ (\u001b[38;5;45mNone\u001b[0m, \u001b[38;5;34m128\u001b[0m)            │         \u001b[38;5;34m2,304\u001b[0m │\n",
       "├─────────────────────────────────┼────────────────────────┼───────────────┤\n",
       "│ dense_1 (\u001b[38;5;33mDense\u001b[0m)                 │ (\u001b[38;5;45mNone\u001b[0m, \u001b[38;5;34m64\u001b[0m)             │         \u001b[38;5;34m8,256\u001b[0m │\n",
       "├─────────────────────────────────┼────────────────────────┼───────────────┤\n",
       "│ dense_2 (\u001b[38;5;33mDense\u001b[0m)                 │ (\u001b[38;5;45mNone\u001b[0m, \u001b[38;5;34m1\u001b[0m)              │            \u001b[38;5;34m65\u001b[0m │\n",
       "└─────────────────────────────────┴────────────────────────┴───────────────┘\n"
      ]
     },
     "metadata": {},
     "output_type": "display_data"
    },
    {
     "data": {
      "text/html": [
       "<pre style=\"white-space:pre;overflow-x:auto;line-height:normal;font-family:Menlo,'DejaVu Sans Mono',consolas,'Courier New',monospace\"><span style=\"font-weight: bold\"> Total params: </span><span style=\"color: #00af00; text-decoration-color: #00af00\">31,877</span> (124.52 KB)\n",
       "</pre>\n"
      ],
      "text/plain": [
       "\u001b[1m Total params: \u001b[0m\u001b[38;5;34m31,877\u001b[0m (124.52 KB)\n"
      ]
     },
     "metadata": {},
     "output_type": "display_data"
    },
    {
     "data": {
      "text/html": [
       "<pre style=\"white-space:pre;overflow-x:auto;line-height:normal;font-family:Menlo,'DejaVu Sans Mono',consolas,'Courier New',monospace\"><span style=\"font-weight: bold\"> Trainable params: </span><span style=\"color: #00af00; text-decoration-color: #00af00\">10,625</span> (41.50 KB)\n",
       "</pre>\n"
      ],
      "text/plain": [
       "\u001b[1m Trainable params: \u001b[0m\u001b[38;5;34m10,625\u001b[0m (41.50 KB)\n"
      ]
     },
     "metadata": {},
     "output_type": "display_data"
    },
    {
     "data": {
      "text/html": [
       "<pre style=\"white-space:pre;overflow-x:auto;line-height:normal;font-family:Menlo,'DejaVu Sans Mono',consolas,'Courier New',monospace\"><span style=\"font-weight: bold\"> Non-trainable params: </span><span style=\"color: #00af00; text-decoration-color: #00af00\">0</span> (0.00 B)\n",
       "</pre>\n"
      ],
      "text/plain": [
       "\u001b[1m Non-trainable params: \u001b[0m\u001b[38;5;34m0\u001b[0m (0.00 B)\n"
      ]
     },
     "metadata": {},
     "output_type": "display_data"
    },
    {
     "data": {
      "text/html": [
       "<pre style=\"white-space:pre;overflow-x:auto;line-height:normal;font-family:Menlo,'DejaVu Sans Mono',consolas,'Courier New',monospace\"><span style=\"font-weight: bold\"> Optimizer params: </span><span style=\"color: #00af00; text-decoration-color: #00af00\">21,252</span> (83.02 KB)\n",
       "</pre>\n"
      ],
      "text/plain": [
       "\u001b[1m Optimizer params: \u001b[0m\u001b[38;5;34m21,252\u001b[0m (83.02 KB)\n"
      ]
     },
     "metadata": {},
     "output_type": "display_data"
    }
   ],
   "source": [
    "model.summary()"
   ]
  },
  {
   "cell_type": "code",
   "execution_count": 33,
   "id": "4778a0ac",
   "metadata": {
    "execution": {
     "iopub.execute_input": "2024-12-05T19:53:55.662496Z",
     "iopub.status.busy": "2024-12-05T19:53:55.662011Z",
     "iopub.status.idle": "2024-12-05T19:53:55.698309Z",
     "shell.execute_reply": "2024-12-05T19:53:55.697159Z"
    },
    "papermill": {
     "duration": 0.05487,
     "end_time": "2024-12-05T19:53:55.701365",
     "exception": false,
     "start_time": "2024-12-05T19:53:55.646495",
     "status": "completed"
    },
    "tags": []
   },
   "outputs": [
    {
     "name": "stderr",
     "output_type": "stream",
     "text": [
      "WARNING:absl:You are saving your model as an HDF5 file via `model.save()` or `keras.saving.save_model(model)`. This file format is considered legacy. We recommend using instead the native Keras format, e.g. `model.save('my_model.keras')` or `keras.saving.save_model(model, 'my_model.keras')`. \n"
     ]
    }
   ],
   "source": [
    "model.save('exp1.h5')"
   ]
  },
  {
   "cell_type": "markdown",
   "id": "c2e75d98",
   "metadata": {
    "papermill": {
     "duration": 0.015852,
     "end_time": "2024-12-05T19:53:55.736945",
     "exception": false,
     "start_time": "2024-12-05T19:53:55.721093",
     "status": "completed"
    },
    "tags": []
   },
   "source": [
    "## Sample User Input"
   ]
  },
  {
   "cell_type": "code",
   "execution_count": 34,
   "id": "6294baf4",
   "metadata": {
    "execution": {
     "iopub.execute_input": "2024-12-05T19:53:55.771464Z",
     "iopub.status.busy": "2024-12-05T19:53:55.769644Z",
     "iopub.status.idle": "2024-12-05T19:53:55.791469Z",
     "shell.execute_reply": "2024-12-05T19:53:55.790315Z"
    },
    "papermill": {
     "duration": 0.04161,
     "end_time": "2024-12-05T19:53:55.793691",
     "exception": false,
     "start_time": "2024-12-05T19:53:55.752081",
     "status": "completed"
    },
    "tags": []
   },
   "outputs": [],
   "source": [
    "input_data = {\n",
    "    \"Age\": 20,\n",
    "    \"Gender\": \"F\",\n",
    "    \"Daily Calories Consumed\": 1700,\n",
    "    \"Weight Change (lbs)\": 5.0,\n",
    "    \"Duration (weeks)\": 10,\n",
    "    \"Physical Activity Level\": \"Sedentary\",\n",
    "    \"Sleep Quality\": \"Excellent\",\n",
    "    \"Stress Level\": 3,\n",
    "    \"Current Weight (lbs)\": 101,\n",
    "    \"Caloric Adjustment\": 250\n",
    "}\n",
    "\n",
    "transformed_data = {\n",
    "    'Age': input_data['Age'],\n",
    "    'Current Weight (lbs)': input_data['Current Weight (lbs)'],\n",
    "    'Daily Calories Consumed': input_data['Daily Calories Consumed'],\n",
    "    'Weight Change (lbs)': input_data['Weight Change (lbs)'],\n",
    "    'Duration (weeks)': input_data['Duration (weeks)'],\n",
    "    'Stress Level': input_data['Stress Level'],\n",
    "    'Caloric Adjustment': input_data['Caloric Adjustment'],\n",
    "    'Gender_F': 1 if input_data['Gender'] == 'F' else 0,\n",
    "    'Gender_M': 1 if input_data['Gender'] == 'M' else 0,\n",
    "    'Physical Activity Level_Lightly Active': 1 if input_data['Physical Activity Level'] == 'Active' else 0,\n",
    "    'Physical Activity Level_Moderately Active': 1 if input_data['Physical Activity Level'] == 'Moderately Active' else 0,\n",
    "    'Physical Activity Level_Sedentary': 1 if input_data['Physical Activity Level'] == 'Sedentary' else 0,\n",
    "    'Physical Activity Level_Very Active': 1 if input_data['Physical Activity Level'] == 'Very Active' else 0,\n",
    "    'Sleep Quality_Excellent': 1 if input_data['Sleep Quality'] == 'Excellent' else 0,\n",
    "    'Sleep Quality_Fair': 1 if input_data['Sleep Quality'] == 'Fair' else 0,\n",
    "    'Sleep Quality_Good': 1 if input_data['Sleep Quality'] == 'Good' else 0,\n",
    "    'Sleep Quality_Poor': 1 if input_data['Sleep Quality'] == 'Poor' else 0,\n",
    "}\n",
    "\n",
    "input_df = pipeline_train.transform(pd.DataFrame([transformed_data]))"
   ]
  },
  {
   "cell_type": "code",
   "execution_count": 35,
   "id": "4ca97f5f",
   "metadata": {
    "execution": {
     "iopub.execute_input": "2024-12-05T19:53:55.824090Z",
     "iopub.status.busy": "2024-12-05T19:53:55.823012Z",
     "iopub.status.idle": "2024-12-05T19:53:55.842600Z",
     "shell.execute_reply": "2024-12-05T19:53:55.841429Z"
    },
    "papermill": {
     "duration": 0.03748,
     "end_time": "2024-12-05T19:53:55.845986",
     "exception": false,
     "start_time": "2024-12-05T19:53:55.808506",
     "status": "completed"
    },
    "tags": []
   },
   "outputs": [
    {
     "data": {
      "text/html": [
       "<div>\n",
       "<style scoped>\n",
       "    .dataframe tbody tr th:only-of-type {\n",
       "        vertical-align: middle;\n",
       "    }\n",
       "\n",
       "    .dataframe tbody tr th {\n",
       "        vertical-align: top;\n",
       "    }\n",
       "\n",
       "    .dataframe thead th {\n",
       "        text-align: right;\n",
       "    }\n",
       "</style>\n",
       "<table border=\"1\" class=\"dataframe\">\n",
       "  <thead>\n",
       "    <tr style=\"text-align: right;\">\n",
       "      <th></th>\n",
       "      <th>Age</th>\n",
       "      <th>Current Weight (lbs)</th>\n",
       "      <th>Daily Calories Consumed</th>\n",
       "      <th>Weight Change (lbs)</th>\n",
       "      <th>Duration (weeks)</th>\n",
       "      <th>Stress Level</th>\n",
       "      <th>Caloric Adjustment</th>\n",
       "      <th>Gender_F</th>\n",
       "      <th>Gender_M</th>\n",
       "      <th>Physical Activity Level_Lightly Active</th>\n",
       "      <th>Physical Activity Level_Moderately Active</th>\n",
       "      <th>Physical Activity Level_Sedentary</th>\n",
       "      <th>Physical Activity Level_Very Active</th>\n",
       "      <th>Sleep Quality_Excellent</th>\n",
       "      <th>Sleep Quality_Fair</th>\n",
       "      <th>Sleep Quality_Good</th>\n",
       "      <th>Sleep Quality_Poor</th>\n",
       "    </tr>\n",
       "  </thead>\n",
       "  <tbody>\n",
       "    <tr>\n",
       "      <th>0</th>\n",
       "      <td>-1.483746</td>\n",
       "      <td>-2.420024</td>\n",
       "      <td>-3.594745</td>\n",
       "      <td>1.020572</td>\n",
       "      <td>0.878276</td>\n",
       "      <td>-0.747946</td>\n",
       "      <td>1.021957</td>\n",
       "      <td>1</td>\n",
       "      <td>0</td>\n",
       "      <td>0</td>\n",
       "      <td>0</td>\n",
       "      <td>1</td>\n",
       "      <td>0</td>\n",
       "      <td>1</td>\n",
       "      <td>0</td>\n",
       "      <td>0</td>\n",
       "      <td>0</td>\n",
       "    </tr>\n",
       "  </tbody>\n",
       "</table>\n",
       "</div>"
      ],
      "text/plain": [
       "        Age  Current Weight (lbs)  Daily Calories Consumed  \\\n",
       "0 -1.483746             -2.420024                -3.594745   \n",
       "\n",
       "   Weight Change (lbs)  Duration (weeks)  Stress Level  Caloric Adjustment  \\\n",
       "0             1.020572          0.878276     -0.747946            1.021957   \n",
       "\n",
       "   Gender_F  Gender_M  Physical Activity Level_Lightly Active  \\\n",
       "0         1         0                                       0   \n",
       "\n",
       "   Physical Activity Level_Moderately Active  \\\n",
       "0                                          0   \n",
       "\n",
       "   Physical Activity Level_Sedentary  Physical Activity Level_Very Active  \\\n",
       "0                                  1                                    0   \n",
       "\n",
       "   Sleep Quality_Excellent  Sleep Quality_Fair  Sleep Quality_Good  \\\n",
       "0                        1                   0                   0   \n",
       "\n",
       "   Sleep Quality_Poor  \n",
       "0                   0  "
      ]
     },
     "execution_count": 35,
     "metadata": {},
     "output_type": "execute_result"
    }
   ],
   "source": [
    "input_df"
   ]
  },
  {
   "cell_type": "code",
   "execution_count": 36,
   "id": "3de3a646",
   "metadata": {
    "execution": {
     "iopub.execute_input": "2024-12-05T19:53:55.875559Z",
     "iopub.status.busy": "2024-12-05T19:53:55.875075Z",
     "iopub.status.idle": "2024-12-05T19:53:55.882509Z",
     "shell.execute_reply": "2024-12-05T19:53:55.881343Z"
    },
    "papermill": {
     "duration": 0.024243,
     "end_time": "2024-12-05T19:53:55.884540",
     "exception": false,
     "start_time": "2024-12-05T19:53:55.860297",
     "status": "completed"
    },
    "tags": []
   },
   "outputs": [
    {
     "data": {
      "text/plain": [
       "(1, 17)"
      ]
     },
     "execution_count": 36,
     "metadata": {},
     "output_type": "execute_result"
    }
   ],
   "source": [
    "input_df.shape"
   ]
  },
  {
   "cell_type": "code",
   "execution_count": 37,
   "id": "f1c7dab8",
   "metadata": {
    "execution": {
     "iopub.execute_input": "2024-12-05T19:53:55.913349Z",
     "iopub.status.busy": "2024-12-05T19:53:55.912277Z",
     "iopub.status.idle": "2024-12-05T19:53:56.004213Z",
     "shell.execute_reply": "2024-12-05T19:53:56.003036Z"
    },
    "papermill": {
     "duration": 0.108615,
     "end_time": "2024-12-05T19:53:56.006348",
     "exception": false,
     "start_time": "2024-12-05T19:53:55.897733",
     "status": "completed"
    },
    "tags": []
   },
   "outputs": [
    {
     "name": "stdout",
     "output_type": "stream",
     "text": [
      "\u001b[1m1/1\u001b[0m \u001b[32m━━━━━━━━━━━━━━━━━━━━\u001b[0m\u001b[37m\u001b[0m \u001b[1m0s\u001b[0m 62ms/step\n"
     ]
    },
    {
     "data": {
      "text/plain": [
       "array([[2358.9265]], dtype=float32)"
      ]
     },
     "execution_count": 37,
     "metadata": {},
     "output_type": "execute_result"
    }
   ],
   "source": [
    "model.predict(input_df)"
   ]
  },
  {
   "cell_type": "markdown",
   "id": "1af63b12",
   "metadata": {},
   "source": [
    "## Serialize Pipeline"
   ]
  },
  {
   "cell_type": "code",
   "execution_count": 38,
   "id": "e36db271",
   "metadata": {},
   "outputs": [],
   "source": [
    "import dill\n",
    "\n",
    "with open('pipeline.pkl', 'wb') as f:\n",
    "    dill.dump(pipeline_train, f)"
   ]
  },
  {
   "cell_type": "code",
   "execution_count": 39,
   "id": "897977af",
   "metadata": {},
   "outputs": [
    {
     "name": "stdout",
     "output_type": "stream",
     "text": [
      "\u001b[1m1/1\u001b[0m \u001b[32m━━━━━━━━━━━━━━━━━━━━\u001b[0m\u001b[37m\u001b[0m \u001b[1m0s\u001b[0m 112ms/step\n",
      "[[2358.9265]]\n"
     ]
    }
   ],
   "source": [
    "with open('pipeline.pkl', 'rb') as f:\n",
    "    loaded_pipeline = dill.load(f)\n",
    "    test_loaded = loaded_pipeline.transform(pd.DataFrame([transformed_data]))\n",
    "\n",
    "    print(model.predict(test_loaded))"
   ]
  }
 ],
 "metadata": {
  "kaggle": {
   "accelerator": "none",
   "dataSources": [
    {
     "datasetId": 5960059,
     "sourceId": 9737749,
     "sourceType": "datasetVersion"
    }
   ],
   "dockerImageVersionId": 30804,
   "isGpuEnabled": false,
   "isInternetEnabled": true,
   "language": "python",
   "sourceType": "notebook"
  },
  "kernelspec": {
   "display_name": "venv",
   "language": "python",
   "name": "python3"
  },
  "language_info": {
   "codemirror_mode": {
    "name": "ipython",
    "version": 3
   },
   "file_extension": ".py",
   "mimetype": "text/x-python",
   "name": "python",
   "nbconvert_exporter": "python",
   "pygments_lexer": "ipython3",
   "version": "3.11.6"
  },
  "papermill": {
   "default_parameters": {},
   "duration": 59.158463,
   "end_time": "2024-12-05T19:53:57.749892",
   "environment_variables": {},
   "exception": null,
   "input_path": "__notebook__.ipynb",
   "output_path": "__notebook__.ipynb",
   "parameters": {},
   "start_time": "2024-12-05T19:52:58.591429",
   "version": "2.6.0"
  }
 },
 "nbformat": 4,
 "nbformat_minor": 5
}
